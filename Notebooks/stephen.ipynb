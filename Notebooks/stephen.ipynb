{
 "cells": [
  {
   "cell_type": "code",
   "execution_count": 26,
   "metadata": {},
   "outputs": [],
   "source": [
    "#Importing Necessary Libraries\n",
    "import pandas as pd\n",
    "import numpy as np\n",
    "import seaborn as sns\n",
    "import matplotlib.pyplot as plt"
   ]
  },
  {
   "cell_type": "markdown",
   "metadata": {},
   "source": [
    "#Load Data"
   ]
  },
  {
   "cell_type": "code",
   "execution_count": 27,
   "metadata": {},
   "outputs": [],
   "source": [
    "file_path = '../Data/cierra_updated.csv'\n",
    "df = pd.read_csv(file_path)"
   ]
  },
  {
   "cell_type": "markdown",
   "metadata": {},
   "source": [
    "Checking Dimensions and Structure"
   ]
  },
  {
   "cell_type": "code",
   "execution_count": 25,
   "metadata": {},
   "outputs": [
    {
     "name": "stdout",
     "output_type": "stream",
     "text": [
      "Dataset Dimensions: (2479, 9)\n",
      "\n",
      "Dataset Information:\n",
      "<class 'pandas.core.frame.DataFrame'>\n",
      "RangeIndex: 2479 entries, 0 to 2478\n",
      "Data columns (total 9 columns):\n",
      " #   Column       Non-Null Count  Dtype \n",
      "---  ------       --------------  ----- \n",
      " 0   category     2479 non-null   object\n",
      " 1   title        2479 non-null   object\n",
      " 2   price        2478 non-null   object\n",
      " 3   link         2479 non-null   object\n",
      " 4   image        2477 non-null   object\n",
      " 5   description  2340 non-null   object\n",
      " 6   top          1920 non-null   object\n",
      " 7   middle       1530 non-null   object\n",
      " 8   base         1233 non-null   object\n",
      "dtypes: object(9)\n",
      "memory usage: 174.4+ KB\n"
     ]
    }
   ],
   "source": [
    "print(\"Dataset Dimensions:\", df.shape)\n",
    "print(\"\\nDataset Information:\")\n",
    "df.info()\n"
   ]
  },
  {
   "cell_type": "markdown",
   "metadata": {},
   "source": [
    "    Column Name Description\n",
    "\n",
    " 0   category:   specify gender target i.e women, men or unisex\n",
    "\n",
    " 1   title:      The name of the perfume\n",
    "\n",
    " 2   price:      The price of the perfume \n",
    "\n",
    " 3   link:       The specific location path on Cierra website\n",
    "\n",
    " 4   image:      The image of the specific perfume\n",
    "\n",
    " 5   description: A synopsis of the perfume\n",
    "\n",
    " 6   top:        The initial scent, lasting 5-15 minutes. \n",
    "\n",
    " 7   middle:     The core of the fragrance, emerging after the top notes dissipate\n",
    " \n",
    " 8   base:       The final lingering notes, which emerge after the middle notes fade and can last several hours."
   ]
  },
  {
   "cell_type": "markdown",
   "metadata": {},
   "source": [
    "Checking for Missing Values"
   ]
  },
  {
   "cell_type": "code",
   "execution_count": 28,
   "metadata": {},
   "outputs": [
    {
     "name": "stdout",
     "output_type": "stream",
     "text": [
      "Columns with Missing Values:\n",
      " price             1\n",
      "image             2\n",
      "description     139\n",
      "top             559\n",
      "middle          949\n",
      "base           1246\n",
      "dtype: int64\n"
     ]
    }
   ],
   "source": [
    "missing_values = df.isnull().sum()\n",
    "missing_values = missing_values[missing_values > 0]\n",
    "print(\"Columns with Missing Values:\\n\", missing_values)"
   ]
  },
  {
   "cell_type": "markdown",
   "metadata": {},
   "source": [
    "Summary Statistics"
   ]
  },
  {
   "cell_type": "code",
   "execution_count": 30,
   "metadata": {},
   "outputs": [
    {
     "name": "stdout",
     "output_type": "stream",
     "text": [
      "Summary Statistics:\n"
     ]
    },
    {
     "data": {
      "text/html": [
       "<div>\n",
       "<style scoped>\n",
       "    .dataframe tbody tr th:only-of-type {\n",
       "        vertical-align: middle;\n",
       "    }\n",
       "\n",
       "    .dataframe tbody tr th {\n",
       "        vertical-align: top;\n",
       "    }\n",
       "\n",
       "    .dataframe thead th {\n",
       "        text-align: right;\n",
       "    }\n",
       "</style>\n",
       "<table border=\"1\" class=\"dataframe\">\n",
       "  <thead>\n",
       "    <tr style=\"text-align: right;\">\n",
       "      <th></th>\n",
       "      <th>category</th>\n",
       "      <th>title</th>\n",
       "      <th>price</th>\n",
       "      <th>link</th>\n",
       "      <th>image</th>\n",
       "      <th>description</th>\n",
       "      <th>top</th>\n",
       "      <th>middle</th>\n",
       "      <th>base</th>\n",
       "    </tr>\n",
       "  </thead>\n",
       "  <tbody>\n",
       "    <tr>\n",
       "      <th>count</th>\n",
       "      <td>2479</td>\n",
       "      <td>2479</td>\n",
       "      <td>2478</td>\n",
       "      <td>2479</td>\n",
       "      <td>2477</td>\n",
       "      <td>2340</td>\n",
       "      <td>1920</td>\n",
       "      <td>1530</td>\n",
       "      <td>1233</td>\n",
       "    </tr>\n",
       "    <tr>\n",
       "      <th>unique</th>\n",
       "      <td>3</td>\n",
       "      <td>2474</td>\n",
       "      <td>472</td>\n",
       "      <td>2476</td>\n",
       "      <td>2463</td>\n",
       "      <td>2257</td>\n",
       "      <td>1697</td>\n",
       "      <td>1417</td>\n",
       "      <td>1165</td>\n",
       "    </tr>\n",
       "    <tr>\n",
       "      <th>top</th>\n",
       "      <td>Women</td>\n",
       "      <td>PARFUMS DE MARLY, PERSEUS EDP 125ML M</td>\n",
       "      <td>KSh14,500.00</td>\n",
       "      <td>https://cierraperfumes.com/product/xerjoff-kem...</td>\n",
       "      <td>https://i0.wp.com/cierraperfumes.com/wp-conten...</td>\n",
       "      <td>Thanks to the intensely captivating scent of J...</td>\n",
       "      <td>Notes</td>\n",
       "      <td>Notes:</td>\n",
       "      <td>HEART NOTES</td>\n",
       "    </tr>\n",
       "    <tr>\n",
       "      <th>freq</th>\n",
       "      <td>1000</td>\n",
       "      <td>2</td>\n",
       "      <td>30</td>\n",
       "      <td>2</td>\n",
       "      <td>2</td>\n",
       "      <td>2</td>\n",
       "      <td>31</td>\n",
       "      <td>19</td>\n",
       "      <td>7</td>\n",
       "    </tr>\n",
       "  </tbody>\n",
       "</table>\n",
       "</div>"
      ],
      "text/plain": [
       "       category                                  title         price  \\\n",
       "count      2479                                   2479          2478   \n",
       "unique        3                                   2474           472   \n",
       "top       Women  PARFUMS DE MARLY, PERSEUS EDP 125ML M  KSh14,500.00   \n",
       "freq       1000                                      2            30   \n",
       "\n",
       "                                                     link  \\\n",
       "count                                                2479   \n",
       "unique                                               2476   \n",
       "top     https://cierraperfumes.com/product/xerjoff-kem...   \n",
       "freq                                                    2   \n",
       "\n",
       "                                                    image  \\\n",
       "count                                                2477   \n",
       "unique                                               2463   \n",
       "top     https://i0.wp.com/cierraperfumes.com/wp-conten...   \n",
       "freq                                                    2   \n",
       "\n",
       "                                              description    top  middle  \\\n",
       "count                                                2340   1920    1530   \n",
       "unique                                               2257   1697    1417   \n",
       "top     Thanks to the intensely captivating scent of J...  Notes  Notes:   \n",
       "freq                                                    2     31      19   \n",
       "\n",
       "               base  \n",
       "count          1233  \n",
       "unique         1165  \n",
       "top     HEART NOTES  \n",
       "freq              7  "
      ]
     },
     "execution_count": 30,
     "metadata": {},
     "output_type": "execute_result"
    }
   ],
   "source": [
    "print(\"Summary Statistics:\")\n",
    "df.describe(include='all')"
   ]
  }
 ],
 "metadata": {
  "kernelspec": {
   "display_name": "learn-env",
   "language": "python",
   "name": "python3"
  },
  "language_info": {
   "codemirror_mode": {
    "name": "ipython",
    "version": 3
   },
   "file_extension": ".py",
   "mimetype": "text/x-python",
   "name": "python",
   "nbconvert_exporter": "python",
   "pygments_lexer": "ipython3",
   "version": "3.8.5"
  }
 },
 "nbformat": 4,
 "nbformat_minor": 2
}
