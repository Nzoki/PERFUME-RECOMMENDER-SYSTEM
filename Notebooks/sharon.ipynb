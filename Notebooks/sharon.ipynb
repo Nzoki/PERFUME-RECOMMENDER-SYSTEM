{
 "cells": [
  {
   "cell_type": "code",
   "execution_count": 8,
   "metadata": {},
   "outputs": [],
   "source": [
    "import pandas as pd\n",
    "import numpy as np\n",
    "import matplotlib.pyplot as plt\n",
    "from collections import Counter\n",
    "import seaborn as sns\n"
   ]
  },
  {
   "cell_type": "code",
   "execution_count": 9,
   "metadata": {},
   "outputs": [
    {
     "name": "stdout",
     "output_type": "stream",
     "text": [
      "Requirement already satisfied: numpy in c:\\users\\user\\anaconda3\\envs\\learn-env\\lib\\site-packages (2.0.2)\n",
      "Requirement already satisfied: scikit-learn in c:\\users\\user\\anaconda3\\envs\\learn-env\\lib\\site-packages (1.5.2)\n",
      "Requirement already satisfied: scipy>=1.6.0 in c:\\users\\user\\anaconda3\\envs\\learn-env\\lib\\site-packages (from scikit-learn) (1.13.1)\n",
      "Requirement already satisfied: joblib>=1.2.0 in c:\\users\\user\\anaconda3\\envs\\learn-env\\lib\\site-packages (from scikit-learn) (1.4.2)\n",
      "Requirement already satisfied: threadpoolctl>=3.1.0 in c:\\users\\user\\anaconda3\\envs\\learn-env\\lib\\site-packages (from scikit-learn) (3.5.0)\n",
      "Note: you may need to restart the kernel to use updated packages.\n"
     ]
    }
   ],
   "source": [
    "pip install --upgrade numpy scikit-learn"
   ]
  },
  {
   "cell_type": "code",
   "execution_count": 10,
   "metadata": {},
   "outputs": [],
   "source": [
    "#pip uninstall scikit-learn"
   ]
  },
  {
   "cell_type": "code",
   "execution_count": 11,
   "metadata": {},
   "outputs": [
    {
     "name": "stdout",
     "output_type": "stream",
     "text": [
      "Requirement already satisfied: scikit-learn in c:\\users\\user\\anaconda3\\envs\\learn-env\\lib\\site-packages (1.5.2)\n",
      "Requirement already satisfied: numpy>=1.19.5 in c:\\users\\user\\anaconda3\\envs\\learn-env\\lib\\site-packages (from scikit-learn) (2.0.2)\n",
      "Requirement already satisfied: scipy>=1.6.0 in c:\\users\\user\\anaconda3\\envs\\learn-env\\lib\\site-packages (from scikit-learn) (1.13.1)\n",
      "Requirement already satisfied: joblib>=1.2.0 in c:\\users\\user\\anaconda3\\envs\\learn-env\\lib\\site-packages (from scikit-learn) (1.4.2)\n",
      "Requirement already satisfied: threadpoolctl>=3.1.0 in c:\\users\\user\\anaconda3\\envs\\learn-env\\lib\\site-packages (from scikit-learn) (3.5.0)\n",
      "Note: you may need to restart the kernel to use updated packages.\n"
     ]
    }
   ],
   "source": [
    "pip install scikit-learn"
   ]
  },
  {
   "cell_type": "code",
   "execution_count": 12,
   "metadata": {},
   "outputs": [],
   "source": [
    "from sklearn.preprocessing import MinMaxScaler"
   ]
  },
  {
   "cell_type": "code",
   "execution_count": 13,
   "metadata": {},
   "outputs": [
    {
     "name": "stdout",
     "output_type": "stream",
     "text": [
      "<class 'pandas.core.frame.DataFrame'>\n",
      "RangeIndex: 2479 entries, 0 to 2478\n",
      "Data columns (total 9 columns):\n",
      " #   Column       Non-Null Count  Dtype \n",
      "---  ------       --------------  ----- \n",
      " 0   category     2479 non-null   object\n",
      " 1   title        2479 non-null   object\n",
      " 2   price        2478 non-null   object\n",
      " 3   link         2479 non-null   object\n",
      " 4   image        2477 non-null   object\n",
      " 5   description  2340 non-null   object\n",
      " 6   top          1920 non-null   object\n",
      " 7   middle       1530 non-null   object\n",
      " 8   base         1233 non-null   object\n",
      "dtypes: object(9)\n",
      "memory usage: 174.4+ KB\n"
     ]
    }
   ],
   "source": [
    "cierra_data =pd.read_csv('cierra_updated.csv')\n",
    "cierra_data.head()\n",
    "cierra_data.info()"
   ]
  },
  {
   "cell_type": "markdown",
   "metadata": {},
   "source": [
    "### Price"
   ]
  },
  {
   "cell_type": "code",
   "execution_count": 14,
   "metadata": {},
   "outputs": [],
   "source": [
    "# Step 1.1: Clean the 'price' column by removing non-numeric characters and converting to numeric\n",
    "\n",
    "cierra_data['price'] = cierra_data['price'].astype(str).str.replace(r'[^\\d.]', '', regex=True)\n",
    "cierra_data['price'] = cierra_data['price'].replace('', np.nan).astype(float)\n"
   ]
  },
  {
   "cell_type": "code",
   "execution_count": 15,
   "metadata": {},
   "outputs": [
    {
     "name": "stdout",
     "output_type": "stream",
     "text": [
      "Missing values in 'price' after imputation: 0\n",
      "count     2479.000000\n",
      "mean     21627.470754\n",
      "std      14475.403134\n",
      "min       3500.000000\n",
      "25%      11300.000000\n",
      "50%      17500.000000\n",
      "75%      28000.000000\n",
      "max      97500.000000\n",
      "Name: price, dtype: float64\n"
     ]
    },
    {
     "name": "stderr",
     "output_type": "stream",
     "text": [
      "C:\\Users\\user\\AppData\\Local\\Temp\\ipykernel_5116\\882753048.py:3: FutureWarning: A value is trying to be set on a copy of a DataFrame or Series through chained assignment using an inplace method.\n",
      "The behavior will change in pandas 3.0. This inplace method will never work because the intermediate object on which we are setting values always behaves as a copy.\n",
      "\n",
      "For example, when doing 'df[col].method(value, inplace=True)', try using 'df.method({col: value}, inplace=True)' or df[col] = df[col].method(value) instead, to perform the operation inplace on the original object.\n",
      "\n",
      "\n",
      "  cierra_data['price'].fillna(median_price, inplace=True)\n"
     ]
    }
   ],
   "source": [
    "# Impute the missing value in 'price' with the median\n",
    "median_price = cierra_data['price'].median()\n",
    "cierra_data['price'].fillna(median_price, inplace=True)\n",
    "\n",
    "# Verify that there are no missing values in the 'price' column\n",
    "cierra_data_price_missing = cierra_data['price'].isnull().sum()\n",
    "print(f\"Missing values in 'price' after imputation: {cierra_data_price_missing}\")\n",
    "\n",
    "# Summary statistics to confirm successful cleaning\n",
    "print(cierra_data['price'].describe())"
   ]
  },
  {
   "cell_type": "code",
   "execution_count": 16,
   "metadata": {},
   "outputs": [
    {
     "name": "stderr",
     "output_type": "stream",
     "text": [
      "C:\\Users\\user\\AppData\\Local\\Temp\\ipykernel_5116\\3838487880.py:2: FutureWarning: A value is trying to be set on a copy of a DataFrame or Series through chained assignment using an inplace method.\n",
      "The behavior will change in pandas 3.0. This inplace method will never work because the intermediate object on which we are setting values always behaves as a copy.\n",
      "\n",
      "For example, when doing 'df[col].method(value, inplace=True)', try using 'df.method({col: value}, inplace=True)' or df[col] = df[col].method(value) instead, to perform the operation inplace on the original object.\n",
      "\n",
      "\n",
      "  cierra_data['top'].fillna('', inplace=True)\n",
      "C:\\Users\\user\\AppData\\Local\\Temp\\ipykernel_5116\\3838487880.py:3: FutureWarning: A value is trying to be set on a copy of a DataFrame or Series through chained assignment using an inplace method.\n",
      "The behavior will change in pandas 3.0. This inplace method will never work because the intermediate object on which we are setting values always behaves as a copy.\n",
      "\n",
      "For example, when doing 'df[col].method(value, inplace=True)', try using 'df.method({col: value}, inplace=True)' or df[col] = df[col].method(value) instead, to perform the operation inplace on the original object.\n",
      "\n",
      "\n",
      "  cierra_data['middle'].fillna('', inplace=True)\n",
      "C:\\Users\\user\\AppData\\Local\\Temp\\ipykernel_5116\\3838487880.py:4: FutureWarning: A value is trying to be set on a copy of a DataFrame or Series through chained assignment using an inplace method.\n",
      "The behavior will change in pandas 3.0. This inplace method will never work because the intermediate object on which we are setting values always behaves as a copy.\n",
      "\n",
      "For example, when doing 'df[col].method(value, inplace=True)', try using 'df.method({col: value}, inplace=True)' or df[col] = df[col].method(value) instead, to perform the operation inplace on the original object.\n",
      "\n",
      "\n",
      "  cierra_data['base'].fillna('', inplace=True)\n"
     ]
    }
   ],
   "source": [
    "# Step 1.3: Fill missing scent notes with placeholders (e.g., empty strings)\n",
    "cierra_data['top'].fillna('', inplace=True)\n",
    "cierra_data['middle'].fillna('', inplace=True)\n",
    "cierra_data['base'].fillna('', inplace=True)"
   ]
  },
  {
   "cell_type": "markdown",
   "metadata": {},
   "source": [
    "## Checking for missing values"
   ]
  },
  {
   "cell_type": "code",
   "execution_count": 17,
   "metadata": {},
   "outputs": [
    {
     "name": "stdout",
     "output_type": "stream",
     "text": [
      "Missing values after cleaning:\n",
      " category         0\n",
      "title            0\n",
      "price            0\n",
      "link             0\n",
      "image            2\n",
      "description    139\n",
      "top              0\n",
      "middle           0\n",
      "base             0\n",
      "dtype: int64\n",
      "Price column summary:\n",
      " count     2479.000000\n",
      "mean     21627.470754\n",
      "std      14475.403134\n",
      "min       3500.000000\n",
      "25%      11300.000000\n",
      "50%      17500.000000\n",
      "75%      28000.000000\n",
      "max      97500.000000\n",
      "Name: price, dtype: float64\n"
     ]
    }
   ],
   "source": [
    "# Confirm the cleaning by checking for any remaining missing values\n",
    "missing_values = cierra_data.isnull().sum()\n",
    "print(\"Missing values after cleaning:\\n\", missing_values)\n",
    "\n",
    "# Optional: Show summary statistics of the 'price' column to confirm the transformation\n",
    "print(\"Price column summary:\\n\", cierra_data['price'].describe())"
   ]
  },
  {
   "cell_type": "markdown",
   "metadata": {},
   "source": [
    "Step 2: Exploratory Data Analysis (EDA) and Visualization"
   ]
  },
  {
   "cell_type": "code",
   "execution_count": 18,
   "metadata": {},
   "outputs": [
    {
     "data": {
      "image/png": "[encoded data removed]",
      "text/plain": [
       "<Figure size 1000x500 with 1 Axes>"
      ]
     },
     "metadata": {},
     "output_type": "display_data"
    }
   ],
   "source": [
    "# 1. Price Distribution\n",
    "plt.figure(figsize=(10, 5))\n",
    "sns.histplot(cierra_data['price'], bins=20, kde=True)\n",
    "plt.title(\"Distribution of Perfume Prices\")\n",
    "plt.xlabel(\"Price (KSh)\")\n",
    "plt.ylabel(\"Frequency\")\n",
    "plt.show()"
   ]
  },
  {
   "cell_type": "code",
   "execution_count": 40,
   "metadata": {},
   "outputs": [
    {
     "name": "stdout",
     "output_type": "stream",
     "text": [
      "Top 20 Most Common Scent Notes (after cleaning):\n",
      ": 2781\n",
      "musk: 125\n",
      "patchouli: 112\n",
      "vanilla: 105\n",
      "jasmine: 104\n",
      "bergamot: 100\n",
      "amber: 98\n",
      "sandalwood: 92\n",
      "vetiver: 73\n",
      "rose: 65\n",
      "tonka bean: 51\n",
      "notes:: 50\n",
      "fragrance notes:: 48\n",
      "cardamom: 48\n",
      "cinnamon: 42\n",
      "lemon: 41\n",
      "pink pepper: 38\n",
      "mandarin: 38\n",
      "top notes: bergamot: 37\n",
      "cedar: 37\n"
     ]
    }
   ],
   "source": [
    "# 1. Combine and clean all notes from 'top', 'middle', and 'base' columns\n",
    "# - Fill missing values with empty strings\n",
    "# - Convert to lowercase\n",
    "# - Remove generic words like 'notes'\n",
    "\n",
    "# Fill missing values, combine all notes, split by commas, and convert to lowercase\n",
    "all_notes = pd.Series(cierra_data[['top', 'middle', 'base']].fillna('').values.ravel())\n",
    "notes_split = all_notes.str.lower().str.split(',').explode().str.strip()  # Split and clean\n",
    "\n",
    "# Remove common words like \"notes\"\n",
    "# Filter out any instances of unwanted words\n",
    "unwanted_words = {'notes', 'note',' top notes'}  # Set of words to exclude\n",
    "cleaned_notes = notes_split[~notes_split.isin(unwanted_words)]\n",
    "\n",
    "# 2. Count frequency of each unique note after cleaning\n",
    "note_counts = Counter(cleaned_notes)\n",
    "most_common_notes = note_counts.most_common(20)  # Get top 20 most common notes\n",
    "\n",
    "# 3. Display the results\n",
    "print(\"Top 20 Most Common Scent Notes (after cleaning):\")\n",
    "for note, count in most_common_notes:\n",
    "    print(f\"{note}: {count}\")"
   ]
  },
  {
   "cell_type": "code",
   "execution_count": 20,
   "metadata": {},
   "outputs": [],
   "source": [
    "# 2. Scent Note Frequency\n",
    "# Combine all scent notes into one series for analysis\n",
    "all_notes = pd.Series(cierra_data[['top', 'middle', 'base']].fillna('').values.ravel())\n",
    "notes_split = all_notes.str.split(',').dropna().explode().str.strip()  # Split and clean notes\n"
   ]
  },
  {
   "cell_type": "code",
   "execution_count": 21,
   "metadata": {},
   "outputs": [
    {
     "data": {
      "image/png": "[encoded data removed]",
      "text/plain": [
       "<Figure size 1200x600 with 1 Axes>"
      ]
     },
     "metadata": {},
     "output_type": "display_data"
    }
   ],
   "source": [
    "\n",
    "\n",
    "# Convert notes_split to a DataFrame\n",
    "notes_split_df = pd.DataFrame(notes_split, columns=['note'])\n",
    "\n",
    "# Count occurrences of each note\n",
    "top_20_notes = notes_split_df['note'].value_counts().iloc[:20]\n",
    "\n",
    "plt.figure(figsize=(12, 6))\n",
    "sns.barplot(y=top_20_notes.index, x=top_20_notes.values)\n",
    "plt.title(\"Top 20 Most Common Scent Notes\")\n",
    "plt.xlabel(\"Frequency\")\n",
    "plt.ylabel(\"Scent Notes\")\n",
    "plt.show()\n"
   ]
  },
  {
   "cell_type": "code",
   "execution_count": 22,
   "metadata": {},
   "outputs": [
    {
     "data": {
      "image/png": "[encoded data removed]",
      "text/plain": [
       "<Figure size 800x500 with 1 Axes>"
      ]
     },
     "metadata": {},
     "output_type": "display_data"
    }
   ],
   "source": [
    "# 3. Category Distribution\n",
    "plt.figure(figsize=(8, 5))\n",
    "sns.countplot(data=cierra_data, x='category')\n",
    "plt.title(\"Distribution of Perfume Categories\")\n",
    "plt.xlabel(\"Category\")\n",
    "plt.ylabel(\"Count\")\n",
    "plt.show()"
   ]
  },
  {
   "cell_type": "markdown",
   "metadata": {},
   "source": [
    "### Preprocessing"
   ]
  },
  {
   "cell_type": "code",
   "execution_count": 23,
   "metadata": {},
   "outputs": [
    {
     "name": "stdout",
     "output_type": "stream",
     "text": [
      "                                               title  \\\n",
      "0  Aberchrombie & Fitch, Authentic Away Edp 100Ml...   \n",
      "1  Aberchrombie & Fitch, Authentic Night Edp 100Ml W   \n",
      "2  Aberchrombie & Fitch, Authentic Night Edp 100M...   \n",
      "3                             AFNAN, 9AM EDP 100ML W   \n",
      "4                  AFNAN, VIOLET BOUQUET EDP 100ML W   \n",
      "\n",
      "                                       scent_profile  price_normalized  \n",
      "0  Top Notes: Brazilian Mandarin, Red Currant, Pe...          0.078723  \n",
      "1  Fragrance Notes:, A mouth-watering combination...          0.041489  \n",
      "2  3 Piece Set Includes:, – 100ml Eau De Parfum S...          0.059574  \n",
      "3  Top Notes: Mandarin, Cedrat, Cardamom and Pink...          0.031915  \n",
      "4  Top notes: Sweet, Woody, Saffron, Citrus., Mid...          0.040426  \n"
     ]
    }
   ],
   "source": [
    "\n",
    "\n",
    "# 1. Combine scent notes into a single column for each perfume\n",
    "# Fill missing values with empty strings, split notes, and combine into a single scent profile\n",
    "cierra_data['scent_profile'] = cierra_data[['top', 'middle', 'base']].fillna('').agg(', '.join, axis=1)\n",
    "\n",
    "# 2. Price Normalization\n",
    "scaler = MinMaxScaler()\n",
    "cierra_data['price_normalized'] = scaler.fit_transform(cierra_data[['price']])\n",
    "\n",
    "# Display the prepared data\n",
    "print(cierra_data[['title', 'scent_profile', 'price_normalized']].head())\n"
   ]
  },
  {
   "cell_type": "markdown",
   "metadata": {},
   "source": [
    "###  Building the Recommendation System"
   ]
  },
  {
   "cell_type": "markdown",
   "metadata": {},
   "source": [
    "Step 1: Vectorizing Scent Profiles\n",
    "Combine Scent Notes: We’ll use the cleaned scent_profile column (which combines top, middle, and base notes) and turn it into a TF-IDF matrix. Each perfume’s scent profile will become a vector, allowing us to compare perfumes based on scent similarity.\n",
    "Calculate Similarity Matrix: Using cosine similarity, we can calculate how similar each perfume is to others based on their scent profiles"
   ]
  },
  {
   "cell_type": "code",
   "execution_count": 26,
   "metadata": {},
   "outputs": [
    {
     "name": "stdout",
     "output_type": "stream",
     "text": [
      "Shape of Scent Similarity Matrix: (2479, 2479)\n"
     ]
    }
   ],
   "source": [
    "from sklearn.feature_extraction.text import TfidfVectorizer\n",
    "from sklearn.metrics.pairwise import cosine_similarity\n",
    "\n",
    "# Assuming cierra_data is preprocessed and has a combined 'scent_profile' column\n",
    "\n",
    "# 1. Vectorize the 'scent_profile' using TF-IDF\n",
    "tfidf_vectorizer = TfidfVectorizer(stop_words='english')\n",
    "tfidf_matrix = tfidf_vectorizer.fit_transform(cierra_data['scent_profile'].fillna(''))  # Handle any missing scent profiles\n",
    "\n",
    "# 2. Compute the cosine similarity matrix\n",
    "scent_similarity = cosine_similarity(tfidf_matrix)\n",
    "\n",
    "# Display the shape of the similarity matrix\n",
    "print(\"Shape of Scent Similarity Matrix:\", scent_similarity.shape)\n"
   ]
  },
  {
   "cell_type": "markdown",
   "metadata": {},
   "source": [
    "Next Step: Price-Based Filtering"
   ]
  },
  {
   "cell_type": "code",
   "execution_count": 27,
   "metadata": {},
   "outputs": [
    {
     "name": "stdout",
     "output_type": "stream",
     "text": [
      "Top Recommended Perfumes:\n",
      "                                        title  \\\n",
      "413            Givenchy, Organza Edp 100Ml W   \n",
      "717      Montale, Vanille Absolu Edp 100Ml W   \n",
      "961  Viva La Juicy, Gold Couture Edp 100Ml W   \n",
      "298      Dolce & Gabbana, The One Edp 75Ml W   \n",
      "370   Giorgio Armani, Armani Code Edp 75Ml W   \n",
      "\n",
      "                                         scent_profile    price  \n",
      "413    Head: Jasmine.Heart: Gardenia.Base: Vanilla, ,   12000.0  \n",
      "717       The must-have Vanilla of our collection., ,   12300.0  \n",
      "961  Key Notes, Luscious Berry, Jasmine Sambac, Van...   9000.0  \n",
      "298  Notes : Bergamot, Litchi, Peach, Lily Of The V...  12500.0  \n",
      "370  Top notes: Jasmine, OrangeHeart notes: Orange ...  18400.0  \n"
     ]
    }
   ],
   "source": [
    "import numpy as np\n",
    "import pandas as pd\n",
    "\n",
    "def recommend_perfumes(user_scent, min_price, max_price, top_n=5):\n",
    "    \"\"\"\n",
    "    Recommends perfumes based on user's scent preference and price range.\n",
    "    \n",
    "    Parameters:\n",
    "        user_scent (str): The scent note(s) preferred by the user.\n",
    "        min_price (float): Minimum price range for the recommendations.\n",
    "        max_price (float): Maximum price range for the recommendations.\n",
    "        top_n (int): Number of top recommendations to return.\n",
    "    \n",
    "    Returns:\n",
    "        DataFrame: Top recommended perfumes based on scent and price range.\n",
    "    \"\"\"\n",
    "    # 1. Vectorize the user's input scent using the same TF-IDF vectorizer\n",
    "    user_tfidf = tfidf_vectorizer.transform([user_scent.lower()])  # Convert to lowercase for consistency\n",
    "    \n",
    "    # 2. Calculate cosine similarity between user scent and all perfumes\n",
    "    user_similarity_scores = cosine_similarity(user_tfidf, tfidf_matrix).flatten()\n",
    "    \n",
    "    # 3. Filter perfumes within the specified price range\n",
    "    price_filtered_indices = (cierra_data['price'] >= min_price) & (cierra_data['price'] <= max_price)\n",
    "    price_filtered_data = cierra_data[price_filtered_indices]\n",
    "    price_filtered_scores = user_similarity_scores[price_filtered_indices]\n",
    "    \n",
    "    # 4. Sort perfumes by similarity scores (descending) and get top N\n",
    "    top_indices = np.argsort(price_filtered_scores)[-top_n:][::-1]  # Get indices of top N similar perfumes\n",
    "    \n",
    "    # 5. Retrieve the top recommendations\n",
    "    recommendations = price_filtered_data.iloc[top_indices]\n",
    "    \n",
    "    # Return the recommendations with selected columns for display\n",
    "    return recommendations[['title', 'scent_profile', 'price']]\n",
    "\n",
    "# Example usage:\n",
    "# User preferences: \"vanilla, jasmine\", minimum price of KSh 5000, maximum price of KSh 20000\n",
    "recommended_perfumes = recommend_perfumes(\"vanilla, jasmine\", min_price=5000, max_price=20000, top_n=5)\n",
    "print(\"Top Recommended Perfumes:\\n\", recommended_perfumes)\n"
   ]
  },
  {
   "cell_type": "code",
   "execution_count": 49,
   "metadata": {},
   "outputs": [
    {
     "name": "stdout",
     "output_type": "stream",
     "text": [
      "Top Recommended Perfumes:\n",
      "                                              title  \\\n",
      "1896    FRANCK OLIVIER, PURE ADDICTION EDP 100ML U   \n",
      "1895       Franck Olivier, Oud Vanille Edp 100Ml U   \n",
      "1854  Dior, Collection Privee 7.5Ml Travel Tubes U   \n",
      "1605       Rue Broca, Pride Pour Homme Edt 100Ml M   \n",
      "1416               JAGUAR, CLASSIC RED EDT 100ML M   \n",
      "\n",
      "                                          scent_profile   price  \n",
      "1896  At first inspiration, a delicious juicy orange...  4700.0  \n",
      "1895  At the top of this enchanting fragrance are no...  4600.0  \n",
      "1854                                               , ,   4200.0  \n",
      "1605                                               , ,   4700.0  \n",
      "1416                                               , ,   4700.0  \n"
     ]
    }
   ],
   "source": [
    "# Example usage:\n",
    "# User preferences: \"vanilla, jasmine\", minimum price of KSh 5000, maximum price of KSh 20000\n",
    "recommended_perfumes = recommend_perfumes(\"\", min_price=2000, max_price=5000, top_n=5)\n",
    "print(\"Top Recommended Perfumes:\\n\", recommended_perfumes)"
   ]
  },
  {
   "cell_type": "code",
   "execution_count": null,
   "metadata": {},
   "outputs": [],
   "source": []
  },
  {
   "cell_type": "code",
   "execution_count": 33,
   "metadata": {},
   "outputs": [],
   "source": [
    "\n",
    "import csv\n",
    "import re\n",
    "import time\n",
    "import nltk\n",
    "import string\n",
    "import pickle\n",
    "\n",
    "import numpy as np\n",
    "import pandas as pd\n",
    "from itertools import chain\n",
    "from nltk.stem import WordNetLemmatizer \n",
    "from nltk.tokenize import RegexpTokenizer"
   ]
  },
  {
   "cell_type": "code",
   "execution_count": 34,
   "metadata": {},
   "outputs": [],
   "source": [
    "\n",
    "#tokenize\n",
    "tokenizer = RegexpTokenizer(r'\\w+')"
   ]
  },
  {
   "cell_type": "code",
   "execution_count": 35,
   "metadata": {},
   "outputs": [],
   "source": [
    "def remove_punctuation(text):\n",
    "    #tokenizer breaks string into a list of words\n",
    "    tokenizer = RegexpTokenizer(r'\\w+')\n",
    "    text = tokenizer.tokenize(text)\n",
    "    text = \" \".join([c for c in text if c not in string.punctuation])\n",
    "    return text"
   ]
  },
  {
   "cell_type": "code",
   "execution_count": 36,
   "metadata": {},
   "outputs": [],
   "source": [
    "def make_lower_case(text):\n",
    "    text = text.lower()\n",
    "    return text"
   ]
  },
  {
   "cell_type": "code",
   "execution_count": null,
   "metadata": {},
   "outputs": [],
   "source": [
    "cierra_data.top=cierra_data.top"
   ]
  },
  {
   "cell_type": "code",
   "execution_count": 38,
   "metadata": {},
   "outputs": [],
   "source": [
    "cierra_data.brand_names=cierra_data.top.apply(lambda x: remove_punctuation(x))\n",
    "cierra_data.brand_names=cierra_data.top.apply(lambda x: make_lower_case(x))\n",
    "cierra_data.product_names=cierra_data.middle.apply(lambda x: remove_punctuation(x))\n",
    "cierra_data.product_names=cierra_data.middle.apply(lambda x: make_lower_case(x))\n",
    "cierra_data.product_names=cierra_data.base.apply(lambda x: remove_punctuation(x))\n",
    "cierra_data.product_names=cierra_data.base.apply(lambda x: make_lower_case(x))\n",
    "\n",
    "#cierra_data.description=cierra_data['description'].apply(lambda x: remove_punctuation(x))\n",
    "#cierra_data.description=cierra_data['description'].apply(lambda x: make_lower_case(x))"
   ]
  },
  {
   "cell_type": "code",
   "execution_count": 43,
   "metadata": {},
   "outputs": [
    {
     "name": "stdout",
     "output_type": "stream",
     "text": [
      "                                       scent_profile  \\\n",
      "0  Top Notes: Brazilian Mandarin, Red Currant, Pe...   \n",
      "1  Fragrance Notes:, A mouth-watering combination...   \n",
      "2  3 Piece Set Includes:, – 100ml Eau De Parfum S...   \n",
      "3  Top Notes: Mandarin, Cedrat, Cardamom and Pink...   \n",
      "4  Top notes: Sweet, Woody, Saffron, Citrus., Mid...   \n",
      "\n",
      "                            scent_profile_lemmatized  \n",
      "0  note brazilian mandarin red currant pear heart...  \n",
      "1  fragrance note mouth water combination black c...  \n",
      "2  3 piece set include 100ml eau de parfum spray ...  \n",
      "3  note mandarin cedrat cardamom pink pepper midd...  \n",
      "4  note sweet woody saffron citrus middle note ar...  \n"
     ]
    }
   ],
   "source": [
    "import spacy\n",
    "import pandas as pd\n",
    "\n",
    "# Load the spaCy English model (ensure you have installed it with `python -m spacy download en_core_web_sm`)\n",
    "nlp = spacy.load('en_core_web_sm')\n",
    "\n",
    "# Sample perfume dataset (assuming 'scent_profile' column combines top, middle, base notes)\n",
    "# For demonstration, cierra_data should already contain a 'scent_profile' column\n",
    "cierra_data['scent_profile'] = cierra_data['scent_profile'].fillna('')  # Handle missing values\n",
    "\n",
    "def lemmatize_scent_profile(text):\n",
    "    \"\"\"\n",
    "    Tokenizes and lemmatizes a scent profile string.\n",
    "    \n",
    "    Parameters:\n",
    "        text (str): The scent profile of a perfume as a single string.\n",
    "        \n",
    "    Returns:\n",
    "        str: A lemmatized and cleaned scent profile.\n",
    "    \"\"\"\n",
    "    doc = nlp(text.lower())  # Convert to lowercase for consistency\n",
    "    lemmatized_tokens = [token.lemma_ for token in doc if not token.is_stop and not token.is_punct]\n",
    "    return ' '.join(lemmatized_tokens)\n",
    "\n",
    "# Apply the lemmatization function to the scent profiles\n",
    "cierra_data['scent_profile_lemmatized'] = cierra_data['scent_profile'].apply(lemmatize_scent_profile)\n",
    "\n",
    "# Display the original and lemmatized scent profiles for comparison\n",
    "print(cierra_data[['scent_profile', 'scent_profile_lemmatized']].head())\n"
   ]
  }
 ],
 "metadata": {
  "kernelspec": {
   "display_name": "learn-env",
   "language": "python",
   "name": "python3"
  },
  "language_info": {
   "codemirror_mode": {
    "name": "ipython",
    "version": 3
   },
   "file_extension": ".py",
   "mimetype": "text/x-python",
   "name": "python",
   "nbconvert_exporter": "python",
   "pygments_lexer": "ipython3",
   "version": "3.9.20"
  }
 },
 "nbformat": 4,
 "nbformat_minor": 2
}
