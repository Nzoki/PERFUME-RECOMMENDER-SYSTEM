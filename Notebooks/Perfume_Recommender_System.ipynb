{
 "cells": [
  {
   "cell_type": "markdown",
   "metadata": {
    "id": "g7aXIZhTN-KL"
   },
   "source": [
    "# PERFUME RECOMMENDATION SYSTEM"
   ]
  },
  {
   "cell_type": "markdown",
   "metadata": {
    "id": "me54LWIcOATg"
   },
   "source": [
    "## Business Understanding\n",
    "\n",
    "There are two sensible ways to buy perfumes. First is to walk into a store and choose one or alternatively online shopping. Both these methods require a bit of knowledge from the buyer’s end on their likes and dislikes. When purchasing perfumes, a buyer needs to consider the notes of the perfumes which are divided into 3. Notes in perfumery are descriptors of scents that can be sensed upon the application of a perfume. The 3 notes are:-\n",
    "Top notes which basically last for 5 – 15 minutes, the heart notes also known as middle notes, that will last for 20 – 60 minutes and the base notes which lasts for a minimum of 6 hours. Different notes react differently for each buyer. Depending on the concentration of aromatic oils, a fragrance can go through these stages quickly or last longer. After settling on the different notes, a buyer then needs to settle on a perfume that meets their price range."
   ]
  },
  {
   "cell_type": "markdown",
   "metadata": {
    "id": "ks3ZKizLOGbD"
   },
   "source": [
    "## Objectives\n",
    "\n",
    "The main objective is creating a Perfume Recomender System  to ensure perfume novices and perfume experts are able to choose scents they like and create a library of scents after all 'variety is the spice of life'.\n",
    "\n",
    "## Specific Objectives\n",
    "1. To develop a recommendation engine that can suggest perfumes based on fragrance notes, categories, and price.\n",
    "2. To implement a user-friendly interface to allow customers to input preferences (e.g., fragrance notes,gender and budget) and receive relevant recommendations.\n",
    "3. To direct prospective buyers to an e-commerce platform whether they can purchase product of choice."
   ]
  },
  {
   "cell_type": "markdown",
   "metadata": {
    "id": "CrvAQn9kO11b"
   },
   "source": [
    "# Data Source\n",
    " The data is web scraped from https://cierraperfumes.com/ website.\n",
    "The data contains 9 columns and 2479 rows.\n",
    "\n",
    "Column Name     Description\n",
    "\n",
    "0 category: specify gender target i.e women, men or unisex\n",
    "\n",
    "1 title: The name of the perfume\n",
    "\n",
    "2 price: The price of the perfume\n",
    "\n",
    "3 link: The specific location path on Cierra website\n",
    "\n",
    "4 image: The image of the specific perfume\n",
    "\n",
    "5 description: A synopsis of the perfume\n",
    "\n",
    "6 top: The initial scent, lasting 5-15 minutes.\n",
    "\n",
    "7 middle: The core of the fragrance, emerging after the top notes dissipate\n",
    "\n",
    "8 base: The final lingering notes, which emerge after the middle notes fade and can last several hours."
   ]
  },
  {
   "cell_type": "markdown",
   "metadata": {
    "id": "MIyKjkzyO3nI"
   },
   "source": [
    "# Data Understanding\n",
    "\n",
    "### Importing necessary modules"
   ]
  },
  {
   "cell_type": "code",
   "execution_count": 127,
   "metadata": {
    "id": "ySIVjFjHON6a"
   },
   "outputs": [],
   "source": [
    "import pandas as pd\n",
    "import numpy as np\n",
    "import matplotlib.pyplot as plt\n",
    "import seaborn as sns\n",
    "from collections import Counter\n",
    "from wordcloud import WordCloud\n",
    "from sklearn.feature_extraction.text import CountVectorizer\n",
    "from sklearn.model_selection import train_test_split\n",
    "from scipy.sparse import hstack, csr_matrix\n",
    "from sklearn.preprocessing import MultiLabelBinarizer, LabelEncoder, MinMaxScaler\n",
    "import nltk\n",
    "from nltk.stem import WordNetLemmatizer\n",
    "import random\n",
    "from sklearn.metrics.pairwise import euclidean_distances, cosine_similarity\n",
    "import re\n",
    "from IPython.display import display\n",
    "from sklearn.feature_extraction.text import TfidfVectorizer"
   ]
  },
  {
   "cell_type": "markdown",
   "metadata": {},
   "source": [
    "Reading data"
   ]
  },
  {
   "cell_type": "code",
   "execution_count": 128,
   "metadata": {
    "colab": {
     "base_uri": "https://localhost:8080/",
     "height": 553
    },
    "id": "NyNAXbclPkMp",
    "outputId": "b15c9cf2-8644-496a-8ec8-802dca92418e"
   },
   "outputs": [
    {
     "data": {
      "text/html": [
       "<div>\n",
       "<style scoped>\n",
       "    .dataframe tbody tr th:only-of-type {\n",
       "        vertical-align: middle;\n",
       "    }\n",
       "\n",
       "    .dataframe tbody tr th {\n",
       "        vertical-align: top;\n",
       "    }\n",
       "\n",
       "    .dataframe thead th {\n",
       "        text-align: right;\n",
       "    }\n",
       "</style>\n",
       "<table border=\"1\" class=\"dataframe\">\n",
       "  <thead>\n",
       "    <tr style=\"text-align: right;\">\n",
       "      <th></th>\n",
       "      <th>category</th>\n",
       "      <th>title</th>\n",
       "      <th>price</th>\n",
       "      <th>link</th>\n",
       "      <th>image</th>\n",
       "      <th>description</th>\n",
       "      <th>top</th>\n",
       "      <th>middle</th>\n",
       "      <th>base</th>\n",
       "    </tr>\n",
       "  </thead>\n",
       "  <tbody>\n",
       "    <tr>\n",
       "      <th>0</th>\n",
       "      <td>Women</td>\n",
       "      <td>Aberchrombie &amp; Fitch, Authentic Away Edp 100Ml...</td>\n",
       "      <td>KSh10,900.00</td>\n",
       "      <td>https://cierraperfumes.com/product/aberchrombi...</td>\n",
       "      <td>https://i0.wp.com/cierraperfumes.com/wp-conten...</td>\n",
       "      <td>The journey is a trip, but the destination is ...</td>\n",
       "      <td>Top Notes: Brazilian Mandarin, Red Currant, Pear</td>\n",
       "      <td>Heart Notes: Plush Pink Freesia, Muguet and Ja...</td>\n",
       "      <td>Base Notes: Warm Praline, Amber, Musk</td>\n",
       "    </tr>\n",
       "    <tr>\n",
       "      <th>1</th>\n",
       "      <td>Women</td>\n",
       "      <td>Aberchrombie &amp; Fitch, Authentic Night Edp 100Ml W</td>\n",
       "      <td>KSh7,400.00</td>\n",
       "      <td>https://cierraperfumes.com/product/aberchrombi...</td>\n",
       "      <td>https://i0.wp.com/cierraperfumes.com/wp-conten...</td>\n",
       "      <td>Authentic Night for Women is for the woman who...</td>\n",
       "      <td>Fragrance Notes:</td>\n",
       "      <td>A mouth-watering combination of Black Currant,...</td>\n",
       "      <td>NaN</td>\n",
       "    </tr>\n",
       "    <tr>\n",
       "      <th>2</th>\n",
       "      <td>Women</td>\n",
       "      <td>Aberchrombie &amp; Fitch, Authentic Night Edp 100M...</td>\n",
       "      <td>KSh9,100.00</td>\n",
       "      <td>https://cierraperfumes.com/product/aberchrombi...</td>\n",
       "      <td>https://i0.wp.com/cierraperfumes.com/wp-conten...</td>\n",
       "      <td>Authentic Night by Abercrombie &amp; Fitch 100ml E...</td>\n",
       "      <td>3 Piece Set Includes:</td>\n",
       "      <td>– 100ml Eau De Parfum Spray– 200ml Perfumed Bo...</td>\n",
       "      <td>Authentic Night for Women is for the woman who...</td>\n",
       "    </tr>\n",
       "    <tr>\n",
       "      <th>3</th>\n",
       "      <td>Women</td>\n",
       "      <td>AFNAN, 9AM EDP 100ML W</td>\n",
       "      <td>KSh6,500.00</td>\n",
       "      <td>https://cierraperfumes.com/product/afnan-9am-e...</td>\n",
       "      <td>https://i0.wp.com/cierraperfumes.com/wp-conten...</td>\n",
       "      <td>Afnan 9am perfume for women is a fruity-spicy ...</td>\n",
       "      <td>Top Notes: Mandarin, Cedrat, Cardamom and Pink...</td>\n",
       "      <td>Middle Notes: Lavender, Orange Blossom, Rose a...</td>\n",
       "      <td>Base Notes: Cedarwood, Moss, Patchouli and Musk</td>\n",
       "    </tr>\n",
       "    <tr>\n",
       "      <th>4</th>\n",
       "      <td>Women</td>\n",
       "      <td>AFNAN, VIOLET BOUQUET EDP 100ML W</td>\n",
       "      <td>KSh7,300.00</td>\n",
       "      <td>https://cierraperfumes.com/product/afnan-viole...</td>\n",
       "      <td>https://i0.wp.com/cierraperfumes.com/wp-conten...</td>\n",
       "      <td>Violet Bouquet is an opulent signature scent o...</td>\n",
       "      <td>Top notes: Sweet, Woody, Saffron, Citrus.</td>\n",
       "      <td>Middle notes: Aromatic, Amber, Orange, Citrus ...</td>\n",
       "      <td>Base notes: Fresh Spicy, Ambergris, Oak Moss, ...</td>\n",
       "    </tr>\n",
       "  </tbody>\n",
       "</table>\n",
       "</div>"
      ],
      "text/plain": [
       "  category                                              title         price  \\\n",
       "0    Women  Aberchrombie & Fitch, Authentic Away Edp 100Ml...  KSh10,900.00   \n",
       "1    Women  Aberchrombie & Fitch, Authentic Night Edp 100Ml W   KSh7,400.00   \n",
       "2    Women  Aberchrombie & Fitch, Authentic Night Edp 100M...   KSh9,100.00   \n",
       "3    Women                             AFNAN, 9AM EDP 100ML W   KSh6,500.00   \n",
       "4    Women                  AFNAN, VIOLET BOUQUET EDP 100ML W   KSh7,300.00   \n",
       "\n",
       "                                                link  \\\n",
       "0  https://cierraperfumes.com/product/aberchrombi...   \n",
       "1  https://cierraperfumes.com/product/aberchrombi...   \n",
       "2  https://cierraperfumes.com/product/aberchrombi...   \n",
       "3  https://cierraperfumes.com/product/afnan-9am-e...   \n",
       "4  https://cierraperfumes.com/product/afnan-viole...   \n",
       "\n",
       "                                               image  \\\n",
       "0  https://i0.wp.com/cierraperfumes.com/wp-conten...   \n",
       "1  https://i0.wp.com/cierraperfumes.com/wp-conten...   \n",
       "2  https://i0.wp.com/cierraperfumes.com/wp-conten...   \n",
       "3  https://i0.wp.com/cierraperfumes.com/wp-conten...   \n",
       "4  https://i0.wp.com/cierraperfumes.com/wp-conten...   \n",
       "\n",
       "                                         description  \\\n",
       "0  The journey is a trip, but the destination is ...   \n",
       "1  Authentic Night for Women is for the woman who...   \n",
       "2  Authentic Night by Abercrombie & Fitch 100ml E...   \n",
       "3  Afnan 9am perfume for women is a fruity-spicy ...   \n",
       "4  Violet Bouquet is an opulent signature scent o...   \n",
       "\n",
       "                                                 top  \\\n",
       "0   Top Notes: Brazilian Mandarin, Red Currant, Pear   \n",
       "1                                   Fragrance Notes:   \n",
       "2                              3 Piece Set Includes:   \n",
       "3  Top Notes: Mandarin, Cedrat, Cardamom and Pink...   \n",
       "4          Top notes: Sweet, Woody, Saffron, Citrus.   \n",
       "\n",
       "                                              middle  \\\n",
       "0  Heart Notes: Plush Pink Freesia, Muguet and Ja...   \n",
       "1  A mouth-watering combination of Black Currant,...   \n",
       "2  – 100ml Eau De Parfum Spray– 200ml Perfumed Bo...   \n",
       "3  Middle Notes: Lavender, Orange Blossom, Rose a...   \n",
       "4  Middle notes: Aromatic, Amber, Orange, Citrus ...   \n",
       "\n",
       "                                                base  \n",
       "0              Base Notes: Warm Praline, Amber, Musk  \n",
       "1                                                NaN  \n",
       "2  Authentic Night for Women is for the woman who...  \n",
       "3    Base Notes: Cedarwood, Moss, Patchouli and Musk  \n",
       "4  Base notes: Fresh Spicy, Ambergris, Oak Moss, ...  "
      ]
     },
     "execution_count": 128,
     "metadata": {},
     "output_type": "execute_result"
    }
   ],
   "source": [
    "file_path = '../Data/cierra_updated.csv'\n",
    "df = pd.read_csv(file_path)\n",
    "df.head()"
   ]
  },
  {
   "cell_type": "code",
   "execution_count": 129,
   "metadata": {
    "colab": {
     "base_uri": "https://localhost:8080/"
    },
    "id": "KwY9btcIPuaB",
    "outputId": "7727e2ea-591c-4a5d-fd75-df87850fc7cf"
   },
   "outputs": [
    {
     "name": "stdout",
     "output_type": "stream",
     "text": [
      "<class 'pandas.core.frame.DataFrame'>\n",
      "RangeIndex: 2479 entries, 0 to 2478\n",
      "Data columns (total 9 columns):\n",
      " #   Column       Non-Null Count  Dtype \n",
      "---  ------       --------------  ----- \n",
      " 0   category     2479 non-null   object\n",
      " 1   title        2479 non-null   object\n",
      " 2   price        2478 non-null   object\n",
      " 3   link         2479 non-null   object\n",
      " 4   image        2477 non-null   object\n",
      " 5   description  2340 non-null   object\n",
      " 6   top          1920 non-null   object\n",
      " 7   middle       1530 non-null   object\n",
      " 8   base         1233 non-null   object\n",
      "dtypes: object(9)\n",
      "memory usage: 174.4+ KB\n"
     ]
    }
   ],
   "source": [
    "df.info()"
   ]
  },
  {
   "cell_type": "markdown",
   "metadata": {
    "id": "-8ktF1wTP3j6"
   },
   "source": [
    "## Data Cleaning"
   ]
  },
  {
   "cell_type": "code",
   "execution_count": 130,
   "metadata": {
    "colab": {
     "base_uri": "https://localhost:8080/"
    },
    "id": "ATbwQtlwPyeA",
    "outputId": "e2819fb3-fa6a-46bd-fa92-9711b4d54e13"
   },
   "outputs": [
    {
     "data": {
      "text/plain": [
       "2896"
      ]
     },
     "execution_count": 130,
     "metadata": {},
     "output_type": "execute_result"
    }
   ],
   "source": [
    "#Checking for missing values\n",
    "df.isnull().values.sum()"
   ]
  },
  {
   "cell_type": "code",
   "execution_count": 131,
   "metadata": {
    "colab": {
     "base_uri": "https://localhost:8080/"
    },
    "id": "Gz1x-L2xPyig",
    "outputId": "db1013df-41fa-4b73-9b8e-a0c9ea57d1f6"
   },
   "outputs": [
    {
     "name": "stdout",
     "output_type": "stream",
     "text": [
      "price             1\n",
      "image             2\n",
      "description     139\n",
      "top             559\n",
      "middle          949\n",
      "base           1246\n",
      "dtype: int64\n"
     ]
    }
   ],
   "source": [
    "# Check the number of missing values in each column\n",
    "missing_values = df.isnull().sum()\n",
    "\n",
    "# Display columns with missing values\n",
    "print(missing_values[missing_values > 0])"
   ]
  },
  {
   "cell_type": "code",
   "execution_count": null,
   "metadata": {
    "colab": {
     "base_uri": "https://localhost:8080/"
    },
    "id": "VPSpUDkBQACY",
    "outputId": "9c2f6cdd-0e0a-475f-a288-10ebc75b4d43"
   },
   "outputs": [
    {
     "data": {
      "text/plain": [
       "0"
      ]
     },
     "execution_count": 6,
     "metadata": {},
     "output_type": "execute_result"
    }
   ],
   "source": [
    "#checking duplicates\n",
    "df.duplicated().sum()"
   ]
  },
  {
   "cell_type": "markdown",
   "metadata": {},
   "source": [
    "There are no duplicates in the data."
   ]
  },
  {
   "cell_type": "code",
   "execution_count": 7,
   "metadata": {
    "colab": {
     "base_uri": "https://localhost:8080/"
    },
    "id": "Jz0ge2yvQAJr",
    "outputId": "a4668684-0619-4fdd-fb6c-983340f0cd28"
   },
   "outputs": [
    {
     "name": "stdout",
     "output_type": "stream",
     "text": [
      "['Women' 'Men' 'Unisex']\n"
     ]
    }
   ],
   "source": [
    "# Print unique values to verify\n",
    "print(df['category'].unique())"
   ]
  },
  {
   "cell_type": "markdown",
   "metadata": {
    "id": "FZSHrTE_QL3w"
   },
   "source": [
    "### Dealing with missing values"
   ]
  },
  {
   "cell_type": "code",
   "execution_count": 132,
   "metadata": {
    "id": "Ql8nF73dQHhU"
   },
   "outputs": [],
   "source": [
    "# Remove \"KSh\" and commas, then convert to float on price column\n",
    "df['price'] = df['price'].replace({'KSh': '', ',': ''}, regex=True).astype(float)\n",
    "\n",
    "# Calculate the median price\n",
    "median_price = df['price'].median()\n",
    "\n",
    "# Fill missing prices with the median price\n",
    "df['price'] = df['price'].fillna(median_price).astype(int)"
   ]
  },
  {
   "cell_type": "code",
   "execution_count": 133,
   "metadata": {
    "id": "8bNonSLURuok"
   },
   "outputs": [],
   "source": [
    "# Fill missing values in fragrance notes, description and image link with an empty string''\n",
    "df['top'] = df['top'].fillna('')\n",
    "df['middle'] = df['middle'].fillna('')\n",
    "df['base'] = df['base'].fillna('')\n",
    "df['image'] = df['image'].fillna('')\n",
    "df['description'] = df['description'].fillna('')"
   ]
  },
  {
   "cell_type": "code",
   "execution_count": 134,
   "metadata": {
    "colab": {
     "base_uri": "https://localhost:8080/"
    },
    "id": "ifzBU0dJR09M",
    "outputId": "1e199de3-9149-48cf-daa6-d0eac580c98a"
   },
   "outputs": [
    {
     "data": {
      "text/plain": [
       "0"
      ]
     },
     "execution_count": 134,
     "metadata": {},
     "output_type": "execute_result"
    }
   ],
   "source": [
    "df.isnull().values.sum()"
   ]
  },
  {
   "cell_type": "code",
   "execution_count": 135,
   "metadata": {
    "colab": {
     "base_uri": "https://localhost:8080/",
     "height": 335
    },
    "id": "aXBLbUsCR1JW",
    "outputId": "056fa3d1-7131-4ad8-c9ed-33a782aa522b"
   },
   "outputs": [
    {
     "data": {
      "text/plain": [
       "count     2479.000000\n",
       "mean     21627.470754\n",
       "std      14475.403134\n",
       "min       3500.000000\n",
       "25%      11300.000000\n",
       "50%      17500.000000\n",
       "75%      28000.000000\n",
       "max      97500.000000\n",
       "Name: price, dtype: float64"
      ]
     },
     "execution_count": 135,
     "metadata": {},
     "output_type": "execute_result"
    }
   ],
   "source": [
    "df['price'].describe()"
   ]
  },
  {
   "cell_type": "markdown",
   "metadata": {
    "id": "3yt7RHJcSAaX"
   },
   "source": [
    "Based on this summary it shows the data positively skewed."
   ]
  },
  {
   "cell_type": "code",
   "execution_count": 136,
   "metadata": {
    "id": "4i1BfhYrR1PU"
   },
   "outputs": [],
   "source": [
    "# Convert text columns to lowercase\n",
    "df['title'] = df['title'].str.lower()\n",
    "df['description'] = df['description'].str.lower()"
   ]
  },
  {
   "cell_type": "code",
   "execution_count": 137,
   "metadata": {
    "id": "Uz51xyqMXVrq"
   },
   "outputs": [],
   "source": [
    "# Split the 'top', 'middle', and 'base' columns by commas and clean up notes\n",
    "df['top_notes'] = df['top'].str.split(',').apply(lambda x: [note.strip().lower() for note in x] if isinstance(x, list) else [])\n",
    "df['middle_notes'] = df['middle'].str.split(',').apply(lambda x: [note.strip().lower() for note in x] if isinstance(x, list) else [])\n",
    "df['base_notes'] = df['base'].str.split(',').apply(lambda x: [note.strip().lower() for note in x] if isinstance(x, list) else [])"
   ]
  },
  {
   "cell_type": "code",
   "execution_count": 138,
   "metadata": {
    "id": "-y56IPimXY8H"
   },
   "outputs": [],
   "source": [
    "# Combine top, middle, and base notes into a single column for overall similarity\n",
    "df['all_notes'] = df['top_notes'] + df['middle_notes'] + df['base_notes']"
   ]
  },
  {
   "cell_type": "markdown",
   "metadata": {
    "id": "ThIVrtVFTIqb"
   },
   "source": [
    "# Data Visualization"
   ]
  },
  {
   "cell_type": "markdown",
   "metadata": {
    "id": "LN8nq2I_TNFq"
   },
   "source": [
    "### Price distribution of perfumes"
   ]
  },
  {
   "cell_type": "code",
   "execution_count": 139,
   "metadata": {
    "colab": {
     "base_uri": "https://localhost:8080/",
     "height": 487
    },
    "id": "c3CcZlGgTRIs",
    "outputId": "e6f95926-c8b2-4eb4-dceb-4e52363d52f6"
   },
   "outputs": [
    {
     "data": {
      "image/png": "[encoded data removed]",
      "text/plain": [
       "<Figure size 576x360 with 1 Axes>"
      ]
     },
     "metadata": {
      "needs_background": "light"
     },
     "output_type": "display_data"
    }
   ],
   "source": [
    "# Histogram of prices\n",
    "plt.figure(figsize=(8, 5))\n",
    "sns.histplot(df['price'], bins=20, kde=True)\n",
    "plt.title(\"Price Distribution of Perfumes\")\n",
    "plt.xlabel(\"Price\")\n",
    "plt.ylabel(\"Frequency\")\n",
    "plt.show()"
   ]
  },
  {
   "cell_type": "markdown",
   "metadata": {
    "id": "1kDqfLXTTXsH"
   },
   "source": [
    " # Most Common Fragrances"
   ]
  },
  {
   "cell_type": "code",
   "execution_count": null,
   "metadata": {
    "colab": {
     "base_uri": "https://localhost:8080/"
    },
    "id": "cN0fgNLVTkvH",
    "outputId": "ba791e07-2145-4981-e281-d3a82be0453c"
   },
   "outputs": [
    {
     "name": "stderr",
     "output_type": "stream",
     "text": [
      "[nltk_data] Downloading package wordnet to\n",
      "[nltk_data]     C:\\Users\\Vero\\AppData\\Roaming\\nltk_data...\n",
      "[nltk_data] Downloading package omw-1.4 to\n",
      "[nltk_data]     C:\\Users\\Vero\\AppData\\Roaming\\nltk_data...\n"
     ]
    },
    {
     "data": {
      "text/plain": [
       "True"
      ]
     },
     "execution_count": 17,
     "metadata": {},
     "output_type": "execute_result"
    }
   ],
   "source": [
    "# Download WordNet data for lemmatization \n",
    "nltk.download('wordnet')\n",
    "nltk.download('omw-1.4')"
   ]
  },
  {
   "cell_type": "code",
   "execution_count": 156,
   "metadata": {
    "colab": {
     "base_uri": "https://localhost:8080/",
     "height": 647
    },
    "id": "rVXZfj3JSsuT",
    "outputId": "d3121e66-ad8e-460d-b326-ebb9a4388b20"
   },
   "outputs": [
    {
     "name": "stdout",
     "output_type": "stream",
     "text": [
      "Most Common Fragrance Notes:\n",
      "rose: 521\n",
      "vanilla: 479\n",
      "jasmine: 446\n",
      "bergamot: 411\n",
      "musk: 399\n",
      "patchouli: 363\n",
      "orange: 346\n",
      "amber: 327\n",
      "sandalwood: 301\n",
      "woody: 279\n"
     ]
    },
    {
     "data": {
      "image/png": "[encoded data removed]",
      "text/plain": [
       "<Figure size 720x360 with 1 Axes>"
      ]
     },
     "metadata": {
      "needs_background": "light"
     },
     "output_type": "display_data"
    }
   ],
   "source": [
    "# Initialize lemmatizer\n",
    "lemmatizer = WordNetLemmatizer()\n",
    "\n",
    "# Lemmatize and join all notes into a single string\n",
    "all_notes_lemmatized = ' '.join([lemmatizer.lemmatize(note) for note in df['all_notes'].explode().values if isinstance(note, str)])\n",
    "\n",
    "# Remove stopwords\n",
    "stopwords = set(['and','in','of', 'it',':','notes:','floral','contrast','flower','flowers','oakmoss','','i','is','are','be','–',':','men','notes','eau','absolute','intensity','perfume','character','masculine','bouquet','dark', 'warmth', 'accord','who', 'elegant', 'de','add','we','world','green', 'captivating', 'love', 'feminine', 'unique', 'both', 'perfect', 'style', 'blue', 'women','come','our','inspired', 'his','made', 'pink','her','woman','man','give','sophisticated', 'one','contains','day','take','femininity','red', 'on','life','up','body', 'lotions','compositions', 'bring','seductive', 'composition', 'modern', 'yet', 'ingredients','reveal','make','olfactory', 'gift','includes','most','s','its','bottle','will','oil','through', 'combine', 'delicate', 'aroma', 'addictive','valley','this','will','de toilette','toilette','contain','has', 'her', 'but','bright','opening', 'to','middle','scent','an','skin','opens','your', 'key', 'as','for','intense','freshness','black','set', 'include', 'at','create','for', 'fruity','leaves','their', 'you', 'light', 'all', 'while','sense', 'soft','rich','parfum','like','into','leave','trail','head','open','which','new','blend','from','white','ingredient','top','base','by','a','notes','the','heart','base','the heart','that','with','note','unknown','fragrance'])\n",
    "\n",
    "# Remove stopwords from the lemmatized string\n",
    "filtered_notes = [note for note in all_notes_lemmatized.split() if note not in stopwords]\n",
    "\n",
    "# most common fragrance notes\n",
    "note_counts = Counter(filtered_notes)\n",
    "\n",
    "# Display the most common fragrance notes\n",
    "most_common_notes = note_counts.most_common(10)\n",
    "print(\"Most Common Fragrance Notes:\")\n",
    "for note, count in most_common_notes:\n",
    "    print(f\"{note}: {count}\")\n",
    "\n",
    "# word cloud\n",
    "wordcloud = WordCloud(\n",
    "    stopwords=stopwords,\n",
    "    width=800,\n",
    "    height=400,\n",
    "    background_color='white',\n",
    "    colormap='viridis',\n",
    "    max_words=100\n",
    ").generate(' '.join(filtered_notes))\n",
    "\n",
    "# Display the word cloud\n",
    "plt.figure(figsize=(10, 5))\n",
    "plt.imshow(wordcloud, interpolation='bilinear')\n",
    "plt.axis(\"off\")\n",
    "plt.title(\"Most Common Fragrance Notes\")\n",
    "plt.show()"
   ]
  },
  {
   "cell_type": "markdown",
   "metadata": {
    "id": "NyBF60wAT8d7"
   },
   "source": [
    "## Count of Perfumes by Category"
   ]
  },
  {
   "cell_type": "code",
   "execution_count": 19,
   "metadata": {
    "colab": {
     "base_uri": "https://localhost:8080/",
     "height": 564
    },
    "id": "d5WjHUYPUCVL",
    "outputId": "84fd9c3a-19d3-4e28-89a7-f6824613b6a4"
   },
   "outputs": [
    {
     "data": {
      "image/png": "[encoded data removed]",
      "text/plain": [
       "<Figure size 720x432 with 1 Axes>"
      ]
     },
     "metadata": {
      "needs_background": "light"
     },
     "output_type": "display_data"
    }
   ],
   "source": [
    "plt.figure(figsize=(10, 6))\n",
    "ax = sns.countplot(data=df, x='category')\n",
    "\n",
    "# Calculate total count\n",
    "total = len(df)\n",
    "\n",
    "# Adding data labels with counts and percentages\n",
    "for p in ax.patches:\n",
    "    count = int(p.get_height())\n",
    "    percentage = round(100 * count / total)  # Round percentage to whole numbers\n",
    "    ax.annotate(f'{count} ({percentage}%)',\n",
    "    (p.get_x() + p.get_width() / 2., p.get_height()),\n",
    "    ha='center', va='center', fontsize=10, color='black', xytext=(0, 10),\n",
    "    textcoords='offset points')\n",
    "# Customizing the plot\n",
    "plt.title(\"Count of Perfumes by Category\")\n",
    "plt.xlabel(\"Category\")\n",
    "plt.ylabel(\"Count\")\n",
    "plt.show()"
   ]
  },
  {
   "cell_type": "markdown",
   "metadata": {},
   "source": [
    "The dataset comprises 40% perfumes in the women’s category, 32% in the unisex category, and 28% in the men’s category."
   ]
  },
  {
   "cell_type": "markdown",
   "metadata": {
    "id": "gErytGHOUKPZ"
   },
   "source": [
    "## Price Distribution by Category"
   ]
  },
  {
   "cell_type": "code",
   "execution_count": 20,
   "metadata": {
    "colab": {
     "base_uri": "https://localhost:8080/",
     "height": 656
    },
    "id": "qyzUEvoWUCZ1",
    "outputId": "2deef1c2-9392-447e-fcaf-920ccc24596c"
   },
   "outputs": [
    {
     "data": {
      "image/png": "[encoded data removed]",
      "text/plain": [
       "<Figure size 576x432 with 1 Axes>"
      ]
     },
     "metadata": {
      "needs_background": "light"
     },
     "output_type": "display_data"
    }
   ],
   "source": [
    "plt.figure(figsize=(8, 6))\n",
    "sns.boxplot(data=df, x='category', y='price', palette='viridis')\n",
    "plt.title('Price Distribution by Category')\n",
    "plt.xlabel('Category')\n",
    "plt.ylabel('Price')\n",
    "plt.show()"
   ]
  },
  {
   "cell_type": "markdown",
   "metadata": {},
   "source": [
    "The price distribution of the unisex category is higher compared to other categories."
   ]
  },
  {
   "cell_type": "markdown",
   "metadata": {
    "id": "Yj0AMMzWUSWJ"
   },
   "source": [
    "## Data Preprocessing"
   ]
  },
  {
   "cell_type": "code",
   "execution_count": 21,
   "metadata": {
    "id": "ZCRnULjkSTP7"
   },
   "outputs": [],
   "source": [
    "# Ensure all entries in 'all_notes' are strings and split into lists for one-hot encoding\n",
    "df['all_notes'] = df['all_notes'].fillna(\"\").astype(str).apply(lambda x: x.split(', '))\n",
    "\n",
    "# Initialize the one-hot encoder for all_notes\n",
    "mlb = MultiLabelBinarizer()\n",
    "\n",
    "# Fit and transform\n",
    "note_features = mlb.fit_transform(df['all_notes'])\n",
    "\n",
    "# Create a DataFrame with the one-hot encoded notes\n",
    "note_features_df = pd.DataFrame(note_features, columns=mlb.classes_)\n",
    "\n",
    "# Concatenate the one-hot encoded notes back to the original DataFrame\n",
    "df = pd.concat([df, note_features_df], axis=1)"
   ]
  },
  {
   "cell_type": "code",
   "execution_count": 22,
   "metadata": {
    "colab": {
     "base_uri": "https://localhost:8080/"
    },
    "id": "l5aNCw5USUJz",
    "outputId": "108f726f-67bc-4c22-cdce-66a109570e75"
   },
   "outputs": [
    {
     "name": "stdout",
     "output_type": "stream",
     "text": [
      "Category encoding: {'Men': 0, 'Unisex': 1, 'Women': 2}\n"
     ]
    }
   ],
   "source": [
    "# Initialize label encoder for category\n",
    "label_encoder = LabelEncoder()\n",
    "\n",
    "# Fit and transform the 'category' column\n",
    "df['category_encoded'] = label_encoder.fit_transform(df['category'])\n",
    "category_mapping = dict(zip(label_encoder.classes_, label_encoder.transform(label_encoder.classes_)))\n",
    "print(\"Category encoding:\", category_mapping)"
   ]
  },
  {
   "cell_type": "code",
   "execution_count": null,
   "metadata": {
    "colab": {
     "base_uri": "https://localhost:8080/",
     "height": 1000
    },
    "id": "ytKEZCa4aYjK",
    "outputId": "fd31f5f6-59a0-4a1c-99bd-b3ce84d955fb"
   },
   "outputs": [
    {
     "data": {
      "text/html": [
       "<div>\n",
       "<style scoped>\n",
       "    .dataframe tbody tr th:only-of-type {\n",
       "        vertical-align: middle;\n",
       "    }\n",
       "\n",
       "    .dataframe tbody tr th {\n",
       "        vertical-align: top;\n",
       "    }\n",
       "\n",
       "    .dataframe thead th {\n",
       "        text-align: right;\n",
       "    }\n",
       "</style>\n",
       "<table border=\"1\" class=\"dataframe\">\n",
       "  <thead>\n",
       "    <tr style=\"text-align: right;\">\n",
       "      <th></th>\n",
       "      <th>category</th>\n",
       "      <th>title</th>\n",
       "      <th>price</th>\n",
       "      <th>link</th>\n",
       "      <th>image</th>\n",
       "      <th>description</th>\n",
       "      <th>top</th>\n",
       "      <th>middle</th>\n",
       "      <th>base</th>\n",
       "      <th>top_notes</th>\n",
       "      <th>middle_notes</th>\n",
       "      <th>base_notes</th>\n",
       "      <th>all_notes</th>\n",
       "      <th>top_cleaned</th>\n",
       "      <th>middle_cleaned</th>\n",
       "      <th>base_cleaned</th>\n",
       "    </tr>\n",
       "  </thead>\n",
       "  <tbody>\n",
       "    <tr>\n",
       "      <th>0</th>\n",
       "      <td>Women</td>\n",
       "      <td>aberchrombie &amp; fitch, authentic away edp 100ml...</td>\n",
       "      <td>10900</td>\n",
       "      <td>https://cierraperfumes.com/product/aberchrombi...</td>\n",
       "      <td>https://i0.wp.com/cierraperfumes.com/wp-conten...</td>\n",
       "      <td>the journey is a trip, but the destination is ...</td>\n",
       "      <td>Top Notes: Brazilian Mandarin, Red Currant, Pear</td>\n",
       "      <td>Heart Notes: Plush Pink Freesia, Muguet and Ja...</td>\n",
       "      <td>Base Notes: Warm Praline, Amber, Musk</td>\n",
       "      <td>[top notes: brazilian mandarin, red currant, p...</td>\n",
       "      <td>[heart notes: plush pink freesia, muguet and j...</td>\n",
       "      <td>[base notes: warm praline, amber, musk]</td>\n",
       "      <td>[Brazilian Mandarin, Red Currant, Pear, Plush ...</td>\n",
       "      <td>[Brazilian Mandarin, Red Currant, Pear]</td>\n",
       "      <td>[Plush Pink Freesia, Muguet and Jasmine]</td>\n",
       "      <td>[Warm Praline, Amber, Musk]</td>\n",
       "    </tr>\n",
       "    <tr>\n",
       "      <th>1</th>\n",
       "      <td>Women</td>\n",
       "      <td>aberchrombie &amp; fitch, authentic night edp 100ml w</td>\n",
       "      <td>7400</td>\n",
       "      <td>https://cierraperfumes.com/product/aberchrombi...</td>\n",
       "      <td>https://i0.wp.com/cierraperfumes.com/wp-conten...</td>\n",
       "      <td>authentic night for women is for the woman who...</td>\n",
       "      <td>Fragrance Notes:</td>\n",
       "      <td>A mouth-watering combination of Black Currant,...</td>\n",
       "      <td></td>\n",
       "      <td>[fragrance notes:]</td>\n",
       "      <td>[a mouth-watering combination of black currant...</td>\n",
       "      <td>[]</td>\n",
       "      <td>[A mouth-watering combination of Black Currant...</td>\n",
       "      <td>[]</td>\n",
       "      <td>[A mouth-watering combination of Black Currant...</td>\n",
       "      <td>[]</td>\n",
       "    </tr>\n",
       "    <tr>\n",
       "      <th>2</th>\n",
       "      <td>Women</td>\n",
       "      <td>aberchrombie &amp; fitch, authentic night edp 100m...</td>\n",
       "      <td>9100</td>\n",
       "      <td>https://cierraperfumes.com/product/aberchrombi...</td>\n",
       "      <td>https://i0.wp.com/cierraperfumes.com/wp-conten...</td>\n",
       "      <td>authentic night by abercrombie &amp; fitch 100ml e...</td>\n",
       "      <td>3 Piece Set Includes:</td>\n",
       "      <td>– 100ml Eau De Parfum Spray– 200ml Perfumed Bo...</td>\n",
       "      <td>Authentic Night for Women is for the woman who...</td>\n",
       "      <td>[3 piece set includes:]</td>\n",
       "      <td>[– 100ml eau de parfum spray– 200ml perfumed b...</td>\n",
       "      <td>[authentic night for women is for the woman wh...</td>\n",
       "      <td>[3, – 100ml Eau De Parfum Spray– 200ml Perfume...</td>\n",
       "      <td>[3]</td>\n",
       "      <td>[– 100ml Eau De Parfum Spray– 200ml Perfumed B...</td>\n",
       "      <td>[Authentic Night for Women is for the woman wh...</td>\n",
       "    </tr>\n",
       "    <tr>\n",
       "      <th>3</th>\n",
       "      <td>Women</td>\n",
       "      <td>afnan, 9am edp 100ml w</td>\n",
       "      <td>6500</td>\n",
       "      <td>https://cierraperfumes.com/product/afnan-9am-e...</td>\n",
       "      <td>https://i0.wp.com/cierraperfumes.com/wp-conten...</td>\n",
       "      <td>afnan 9am perfume for women is a fruity-spicy ...</td>\n",
       "      <td>Top Notes: Mandarin, Cedrat, Cardamom and Pink...</td>\n",
       "      <td>Middle Notes: Lavender, Orange Blossom, Rose a...</td>\n",
       "      <td>Base Notes: Cedarwood, Moss, Patchouli and Musk</td>\n",
       "      <td>[top notes: mandarin, cedrat, cardamom and pin...</td>\n",
       "      <td>[middle notes: lavender, orange blossom, rose ...</td>\n",
       "      <td>[base notes: cedarwood, moss, patchouli and musk]</td>\n",
       "      <td>[Mandarin, Cedrat, Cardamom and Pink Pepper, M...</td>\n",
       "      <td>[Mandarin, Cedrat, Cardamom and Pink Pepper]</td>\n",
       "      <td>[Middle  Lavender, Orange Blossom, Rose and Gr...</td>\n",
       "      <td>[Cedarwood, Moss, Patchouli and Musk]</td>\n",
       "    </tr>\n",
       "    <tr>\n",
       "      <th>4</th>\n",
       "      <td>Women</td>\n",
       "      <td>afnan, violet bouquet edp 100ml w</td>\n",
       "      <td>7300</td>\n",
       "      <td>https://cierraperfumes.com/product/afnan-viole...</td>\n",
       "      <td>https://i0.wp.com/cierraperfumes.com/wp-conten...</td>\n",
       "      <td>violet bouquet is an opulent signature scent o...</td>\n",
       "      <td>Top notes: Sweet, Woody, Saffron, Citrus.</td>\n",
       "      <td>Middle notes: Aromatic, Amber, Orange, Citrus ...</td>\n",
       "      <td>Base notes: Fresh Spicy, Ambergris, Oak Moss, ...</td>\n",
       "      <td>[top notes: sweet, woody, saffron, citrus.]</td>\n",
       "      <td>[middle notes: aromatic, amber, orange, citrus...</td>\n",
       "      <td>[base notes: fresh spicy, ambergris, oak moss,...</td>\n",
       "      <td>[Sweet, Woody, Saffron, Citrus., Middle  Aroma...</td>\n",
       "      <td>[Sweet, Woody, Saffron, Citrus.]</td>\n",
       "      <td>[Middle  Aromatic, Amber, Orange, Citrus Peel.]</td>\n",
       "      <td>[Fresh Spicy, Ambergris, Oak Moss, Ancient Woo...</td>\n",
       "    </tr>\n",
       "  </tbody>\n",
       "</table>\n",
       "</div>"
      ],
      "text/plain": [
       "  category                                              title  price  \\\n",
       "0    Women  aberchrombie & fitch, authentic away edp 100ml...  10900   \n",
       "1    Women  aberchrombie & fitch, authentic night edp 100ml w   7400   \n",
       "2    Women  aberchrombie & fitch, authentic night edp 100m...   9100   \n",
       "3    Women                             afnan, 9am edp 100ml w   6500   \n",
       "4    Women                  afnan, violet bouquet edp 100ml w   7300   \n",
       "\n",
       "                                                link  \\\n",
       "0  https://cierraperfumes.com/product/aberchrombi...   \n",
       "1  https://cierraperfumes.com/product/aberchrombi...   \n",
       "2  https://cierraperfumes.com/product/aberchrombi...   \n",
       "3  https://cierraperfumes.com/product/afnan-9am-e...   \n",
       "4  https://cierraperfumes.com/product/afnan-viole...   \n",
       "\n",
       "                                               image  \\\n",
       "0  https://i0.wp.com/cierraperfumes.com/wp-conten...   \n",
       "1  https://i0.wp.com/cierraperfumes.com/wp-conten...   \n",
       "2  https://i0.wp.com/cierraperfumes.com/wp-conten...   \n",
       "3  https://i0.wp.com/cierraperfumes.com/wp-conten...   \n",
       "4  https://i0.wp.com/cierraperfumes.com/wp-conten...   \n",
       "\n",
       "                                         description  \\\n",
       "0  the journey is a trip, but the destination is ...   \n",
       "1  authentic night for women is for the woman who...   \n",
       "2  authentic night by abercrombie & fitch 100ml e...   \n",
       "3  afnan 9am perfume for women is a fruity-spicy ...   \n",
       "4  violet bouquet is an opulent signature scent o...   \n",
       "\n",
       "                                                 top  \\\n",
       "0   Top Notes: Brazilian Mandarin, Red Currant, Pear   \n",
       "1                                   Fragrance Notes:   \n",
       "2                              3 Piece Set Includes:   \n",
       "3  Top Notes: Mandarin, Cedrat, Cardamom and Pink...   \n",
       "4          Top notes: Sweet, Woody, Saffron, Citrus.   \n",
       "\n",
       "                                              middle  \\\n",
       "0  Heart Notes: Plush Pink Freesia, Muguet and Ja...   \n",
       "1  A mouth-watering combination of Black Currant,...   \n",
       "2  – 100ml Eau De Parfum Spray– 200ml Perfumed Bo...   \n",
       "3  Middle Notes: Lavender, Orange Blossom, Rose a...   \n",
       "4  Middle notes: Aromatic, Amber, Orange, Citrus ...   \n",
       "\n",
       "                                                base  \\\n",
       "0              Base Notes: Warm Praline, Amber, Musk   \n",
       "1                                                      \n",
       "2  Authentic Night for Women is for the woman who...   \n",
       "3    Base Notes: Cedarwood, Moss, Patchouli and Musk   \n",
       "4  Base notes: Fresh Spicy, Ambergris, Oak Moss, ...   \n",
       "\n",
       "                                           top_notes  \\\n",
       "0  [top notes: brazilian mandarin, red currant, p...   \n",
       "1                                 [fragrance notes:]   \n",
       "2                            [3 piece set includes:]   \n",
       "3  [top notes: mandarin, cedrat, cardamom and pin...   \n",
       "4        [top notes: sweet, woody, saffron, citrus.]   \n",
       "\n",
       "                                        middle_notes  \\\n",
       "0  [heart notes: plush pink freesia, muguet and j...   \n",
       "1  [a mouth-watering combination of black currant...   \n",
       "2  [– 100ml eau de parfum spray– 200ml perfumed b...   \n",
       "3  [middle notes: lavender, orange blossom, rose ...   \n",
       "4  [middle notes: aromatic, amber, orange, citrus...   \n",
       "\n",
       "                                          base_notes  \\\n",
       "0            [base notes: warm praline, amber, musk]   \n",
       "1                                                 []   \n",
       "2  [authentic night for women is for the woman wh...   \n",
       "3  [base notes: cedarwood, moss, patchouli and musk]   \n",
       "4  [base notes: fresh spicy, ambergris, oak moss,...   \n",
       "\n",
       "                                           all_notes  \\\n",
       "0  [Brazilian Mandarin, Red Currant, Pear, Plush ...   \n",
       "1  [A mouth-watering combination of Black Currant...   \n",
       "2  [3, – 100ml Eau De Parfum Spray– 200ml Perfume...   \n",
       "3  [Mandarin, Cedrat, Cardamom and Pink Pepper, M...   \n",
       "4  [Sweet, Woody, Saffron, Citrus., Middle  Aroma...   \n",
       "\n",
       "                                    top_cleaned  \\\n",
       "0       [Brazilian Mandarin, Red Currant, Pear]   \n",
       "1                                            []   \n",
       "2                                           [3]   \n",
       "3  [Mandarin, Cedrat, Cardamom and Pink Pepper]   \n",
       "4              [Sweet, Woody, Saffron, Citrus.]   \n",
       "\n",
       "                                      middle_cleaned  \\\n",
       "0           [Plush Pink Freesia, Muguet and Jasmine]   \n",
       "1  [A mouth-watering combination of Black Currant...   \n",
       "2  [– 100ml Eau De Parfum Spray– 200ml Perfumed B...   \n",
       "3  [Middle  Lavender, Orange Blossom, Rose and Gr...   \n",
       "4    [Middle  Aromatic, Amber, Orange, Citrus Peel.]   \n",
       "\n",
       "                                        base_cleaned  \n",
       "0                        [Warm Praline, Amber, Musk]  \n",
       "1                                                 []  \n",
       "2  [Authentic Night for Women is for the woman wh...  \n",
       "3              [Cedarwood, Moss, Patchouli and Musk]  \n",
       "4  [Fresh Spicy, Ambergris, Oak Moss, Ancient Woo...  "
      ]
     },
     "execution_count": 158,
     "metadata": {},
     "output_type": "execute_result"
    }
   ],
   "source": [
    "# Function to clean and extract notes from each column\n",
    "def extract_notes(text):\n",
    "    if pd.isna(text):\n",
    "        return []\n",
    "    # Remove phrases like \"Top Notes:\", \"Heart Notes:\", \"Base Notes:\" and other non-note text\n",
    "    cleaned_text = re.sub(r\"(Top|Heart|Base|Notes|Fragrance|Includes|Set|Piece)[^:]*:?\", \"\", text, flags=re.IGNORECASE)\n",
    "\n",
    "    # Extract individual notes by splitting on commas and stripping whitespace\n",
    "    notes = [note.strip() for note in cleaned_text.split(\",\") if note.strip()]\n",
    "    return notes\n",
    "\n",
    "# Apply extraction function to 'top', 'middle', and 'base' columns\n",
    "df['top_cleaned'] = df['top'].apply(extract_notes)\n",
    "df['middle_cleaned'] = df['middle'].apply(extract_notes)\n",
    "df['base_cleaned'] = df['base'].apply(extract_notes)\n",
    "\n",
    "# Ensure all cleaned note columns are lists, even if empty\n",
    "df['top_cleaned'] = df['top_cleaned'].apply(lambda x: x if isinstance(x, list) else [])\n",
    "df['middle_cleaned'] = df['middle_cleaned'].apply(lambda x: x if isinstance(x, list) else [])\n",
    "df['base_cleaned'] = df['base_cleaned'].apply(lambda x: x if isinstance(x, list) else [])\n",
    "\n",
    "# Concatenate all note lists into a single 'all_notes' column\n",
    "df['all_notes'] = df['top_cleaned'] + df['middle_cleaned'] + df['base_cleaned']\n",
    "df.head()"
   ]
  },
  {
   "cell_type": "code",
   "execution_count": 159,
   "metadata": {
    "id": "C4W1UdHEa9fh"
   },
   "outputs": [],
   "source": [
    "# Ensure all notes are lemmatized and lowercased\n",
    "df['all_notes'] = df['all_notes'].apply(lambda notes: [lemmatizer.lemmatize(note.lower()) for note in notes])"
   ]
  },
  {
   "cell_type": "code",
   "execution_count": 161,
   "metadata": {},
   "outputs": [],
   "source": [
    "#Join notes into a single text string for each perfume\n",
    "df['all_notes_text'] = df['all_notes'].apply(lambda notes: \" \".join(notes))\n"
   ]
  },
  {
   "cell_type": "markdown",
   "metadata": {},
   "source": [
    "# Modelling and Evaluation"
   ]
  },
  {
   "cell_type": "markdown",
   "metadata": {},
   "source": [
    "### Item based filtering"
   ]
  },
  {
   "cell_type": "code",
   "execution_count": 164,
   "metadata": {},
   "outputs": [
    {
     "name": "stdout",
     "output_type": "stream",
     "text": [
      "[[1.         0.14045558 0.00605055 ... 0.04270579 0.         0.        ]\n",
      " [0.14045558 1.         0.02380329 ... 0.04037227 0.         0.        ]\n",
      " [0.00605055 0.02380329 1.         ... 0.02671431 0.         0.        ]\n",
      " ...\n",
      " [0.04270579 0.04037227 0.02671431 ... 1.         0.         0.        ]\n",
      " [0.         0.         0.         ... 0.         0.         0.        ]\n",
      " [0.         0.         0.         ... 0.         0.         0.        ]]\n"
     ]
    }
   ],
   "source": [
    "# Initialize the TF-IDF Vectorizer\n",
    "tfidf_vectorizer = TfidfVectorizer()\n",
    "\n",
    "# Apply TF-IDF on the 'all_notes_text' column\n",
    "tfidf_matrix = tfidf_vectorizer.fit_transform(df['all_notes_text'])\n",
    "\n",
    "#  Calculate Cosine Similarity Matrix\n",
    "# This creates a matrix where element (i, j) is the similarity between perfume i and perfume j\n",
    "cosine_sim_matrix = cosine_similarity(tfidf_matrix, tfidf_matrix)\n",
    "print(cosine_sim_matrix)"
   ]
  },
  {
   "cell_type": "code",
   "execution_count": 166,
   "metadata": {
    "colab": {
     "base_uri": "https://localhost:8080/"
    },
    "id": "d1vzULOobf5W",
    "outputId": "01bc4906-413d-4c76-fa39-8f35ebb07a6d"
   },
   "outputs": [
    {
     "name": "stdout",
     "output_type": "stream",
     "text": [
      "Recommended Perfumes:\n",
      "                                                  title  \\\n",
      "2025          m.micallef, vanille patchouli edp 100ml u   \n",
      "639                   lanvin, jeanne lanvin edp 100ml w   \n",
      "590   lacoste, eau de lacoste pour femme elixir edp ...   \n",
      "628                        lancome, miracle edp 100ml w   \n",
      "518   issey miyake, l’eau d’issey solar violet edt 1...   \n",
      "\n",
      "                                         all_notes_text  \n",
      "2025  olfactory nutmeg saffron pink pepper and manda...  \n",
      "639   blackberry lemon & pear peony freesia raspberr...  \n",
      "590   pink pepper mandarin. brazilian gardenia helio...  \n",
      "628   lychee fruit freesia. magnolia ginger and pepp...  \n",
      "518                                           a –  pear  \n"
     ]
    }
   ],
   "source": [
    "# get recommendations based on cosine similarity\n",
    "def get_recommendations(index, cosine_sim_matrix, df, num_recommendations=5):\n",
    "    # Get similarity scores for the given perfume\n",
    "    sim_scores = list(enumerate(cosine_sim_matrix[index]))\n",
    "\n",
    "    # Sort perfumes by similarity score in descending order, excluding the perfume itself\n",
    "    sim_scores = sorted(sim_scores, key=lambda x: x[1], reverse=True)[1:num_recommendations+1]\n",
    "\n",
    "    # Get the indices of the recommended perfumes\n",
    "    perfume_indices = [i[0] for i in sim_scores]\n",
    "\n",
    "    # Return the recommended perfumes with their notes\n",
    "    return df.iloc[perfume_indices][['title', 'all_notes_text']]\n",
    "\n",
    "# Get recommendations for the first perfume in the dataset\n",
    "recommendations = get_recommendations(0, cosine_sim_matrix, df, num_recommendations=5)\n",
    "print(\"Recommended Perfumes:\")\n",
    "print(recommendations)"
   ]
  },
  {
   "cell_type": "code",
   "execution_count": 167,
   "metadata": {
    "colab": {
     "base_uri": "https://localhost:8080/"
    },
    "id": "RaeMOjKkbKqy",
    "outputId": "167b69f2-982a-45a1-bffb-1f5575c8fea5"
   },
   "outputs": [
    {
     "name": "stdout",
     "output_type": "stream",
     "text": [
      "Top 5 Perfumes Similar to 'rose':\n",
      "                                       title  \\\n",
      "416   givenchy, very irresistible edt 75ml w   \n",
      "1864           diptyque, capitale edp 75ml u   \n",
      "714          montale, roses musk edp 100ml w   \n",
      "801    penhaligon’s, duchess rose edp 75ml w   \n",
      "993                   ysl, paris edt 125ml w   \n",
      "\n",
      "                                         all_notes_text  similarity  \n",
      "416   rose pivoine rose centifolia rose fantasia ros...    0.733553  \n",
      "1864                 rose. middle: bergamot. patchouli.    0.483414  \n",
      "714   roses musk rose essence rose absolute jasmine ...    0.474244  \n",
      "801   * head  mandarin *  rose centifolia damascene ...    0.463448  \n",
      "993   a rose accord blooms at mimosa orange blossom ...    0.432504  \n"
     ]
    }
   ],
   "source": [
    "# Get similar perfumes based on a specific note\n",
    "def get_similar_perfumes(note, tfidf_vectorizer, tfidf_matrix, df, num_recommendations=5):\n",
    "    # Create a query vector for the note \n",
    "    query_vector = tfidf_vectorizer.transform([note])\n",
    "\n",
    "    # cosine similarity between the query and all perfumes\n",
    "    cosine_similarities = cosine_similarity(query_vector, tfidf_matrix).flatten()\n",
    "\n",
    "    # Get indices of perfumes sorted by similarity score in descending order\n",
    "    similar_indices = cosine_similarities.argsort()[::-1][:num_recommendations]\n",
    "\n",
    "    # Fetch the recommended perfumes with their notes and similarity scores\n",
    "    recommendations = df.iloc[similar_indices][['title', 'all_notes_text']]\n",
    "    recommendations['similarity'] = cosine_similarities[similar_indices]\n",
    "\n",
    "    return recommendations\n",
    "\n",
    "# Get top 5 perfumes similar to specific note\n",
    "recommendations = get_similar_perfumes(\"rose\", tfidf_vectorizer, tfidf_matrix, df, num_recommendations=5)\n",
    "print(\"Top 5 Perfumes Similar to 'rose':\")\n",
    "print(recommendations)"
   ]
  },
  {
   "cell_type": "markdown",
   "metadata": {},
   "source": [
    "User Based Filtering"
   ]
  },
  {
   "cell_type": "code",
   "execution_count": 175,
   "metadata": {
    "colab": {
     "base_uri": "https://localhost:8080/"
    },
    "id": "uQbEeWc-bMOx",
    "outputId": "71dc6e94-4815-41cb-9667-1397fa38a2b5"
   },
   "outputs": [
    {
     "name": "stdout",
     "output_type": "stream",
     "text": [
      "\n",
      "Recommendations using cosine similarity:\n",
      "                                               title  price category\n",
      "993                           ysl, paris edt 125ml w  17200    Women\n",
      "210        chloe, rose naturelle intense edp 100ml w  18800    Women\n",
      "113  bvlgari, rose goldea blossom delight edp 75ml w  15100    Women\n",
      "823                  ralph lauren, woman edp 100ml w  15400    Women\n",
      "948          viktor&rolf, flowerbomb dew edp 100ml w  17800    Women\n",
      "\n",
      "Recommendations using euclidean similarity:\n"
     ]
    },
    {
     "name": "stderr",
     "output_type": "stream",
     "text": [
      "c:\\Users\\Vero\\anaconda3\\envs\\learn-env\\lib\\site-packages\\sklearn\\base.py:450: UserWarning: X does not have valid feature names, but MinMaxScaler was fitted with feature names\n",
      "  warnings.warn(\n",
      "c:\\Users\\Vero\\anaconda3\\envs\\learn-env\\lib\\site-packages\\sklearn\\base.py:450: UserWarning: X does not have valid feature names, but MinMaxScaler was fitted with feature names\n",
      "  warnings.warn(\n"
     ]
    },
    {
     "name": "stdout",
     "output_type": "stream",
     "text": [
      "                                           title  price category\n",
      "774     paco rabanne, olympea intense edp 80ml w  17500    Women\n",
      "770  paco rabanne, lady million royal edp 80ml w  17500    Women\n",
      "891  tiffany & company, love for her edp 100ml w  17400    Women\n",
      "599          lancome, idole l’intense edp 75ml w  17200    Women\n",
      "765                paco rabanne, fame edp 80ml w  17800    Women\n",
      "\n",
      "Recommendations using random similarity:\n",
      "                                                 title  price category\n",
      "489                 hermes, twilly d hermes edp 85ml w  17100    Women\n",
      "729  narciso rodriguez, musc noir edp 100ml w gift set  16000    Women\n",
      "634           lancome, tresor midnight rose edp 75ml w  19500    Women\n",
      "461                      guerlain, shalimar edp 90ml w  18700    Women\n",
      "766                   paco rabanne, fame parfum 80ml w  19200    Women\n"
     ]
    },
    {
     "name": "stderr",
     "output_type": "stream",
     "text": [
      "c:\\Users\\Vero\\anaconda3\\envs\\learn-env\\lib\\site-packages\\sklearn\\base.py:450: UserWarning: X does not have valid feature names, but MinMaxScaler was fitted with feature names\n",
      "  warnings.warn(\n"
     ]
    }
   ],
   "source": [
    "# Normalize price\n",
    "scaler = MinMaxScaler()\n",
    "df['normalized_price'] = scaler.fit_transform(df[['price']])\n",
    "\n",
    "# Encode category (gender) using label encoding\n",
    "category_mapping = {\"Women\": 0, \"Men\": 1, \"Unisex\": 2}\n",
    "df['category_encoded'] = df['category'].map(category_mapping)\n",
    "# Convert 'category_encoded' and 'normalized_price' columns to sparse matrices\n",
    "category_matrix = csr_matrix(df[['category_encoded']].values)\n",
    "price_matrix = csr_matrix(df[['normalized_price']].values)\n",
    "\n",
    "# Combine into a single feature matrix for all perfumes (note features + category + price)\n",
    "features_matrix = hstack([note_features, category_matrix, price_matrix]).tocsr()\n",
    "\n",
    "# Recommend perfumes based on note, gender, and price range with different models\n",
    "def recommend_perfume_by_note_gender_price(note, gender, price_range, model_type=\"cosine\", num_recommendations=5):\n",
    "    # Map gender to encoded value\n",
    "    encoded_gender = category_mapping.get(gender.capitalize())\n",
    "    if encoded_gender is None:\n",
    "        return \"Invalid gender specified. Please enter 'Women', 'Men', or 'Unisex'.\"\n",
    "\n",
    "    min_price, max_price = price_range\n",
    "    filtered_df = df[(df['category_encoded'] == encoded_gender) &\n",
    "                     (df['price'] >= min_price) & (df['price'] <= max_price)]\n",
    "\n",
    "    if filtered_df.empty:\n",
    "        return \"No perfumes found for the given criteria.\"\n",
    "\n",
    "    # Create a query vector for the specified note using TF-IDF vectorizer\n",
    "    query_note_vector = tfidf_vectorizer.transform([note])\n",
    "\n",
    "    # Add gender and normalized price to the query vector\n",
    "    gender_vector = csr_matrix([[encoded_gender]])\n",
    "    price_vector = csr_matrix(scaler.transform([[min_price + (max_price - min_price) / 2]]))  # Midpoint of price range\n",
    "    query_vector = hstack([query_note_vector, gender_vector, price_vector])\n",
    "\n",
    "    # Ensure the query vector has the same number of features as the feature matrix\n",
    "    if query_vector.shape[1] != features_matrix.shape[1]:\n",
    "        # Fill missing features in the query vector with zeros if necessary\n",
    "        missing_columns = features_matrix.shape[1] - query_vector.shape[1]\n",
    "        query_vector = hstack([query_vector, csr_matrix([[0] * missing_columns])])\n",
    "\n",
    "    # Calculate similarity scores based on the chosen model\n",
    "    if model_type == \"cosine\":\n",
    "        sim_scores = cosine_similarity(query_vector, features_matrix[filtered_df.index, :]).flatten()\n",
    "    elif model_type == \"euclidean\":\n",
    "        sim_scores = -euclidean_distances(query_vector, features_matrix[filtered_df.index, :]).flatten()  # Negative for descending order\n",
    "    elif model_type == \"random\":\n",
    "        sim_scores = np.array([random.random() for _ in range(len(filtered_df))])  # Random scores\n",
    "\n",
    "    # Get indices of top recommendations\n",
    "    sim_indices = sim_scores.argsort()[::-1][:num_recommendations]\n",
    "    recommendations = filtered_df.iloc[sim_indices][['title', 'price', 'category']]\n",
    "\n",
    "    return recommendations\n",
    "\n",
    "# Example call\n",
    "user_note = input(\"Enter a note you like (e.g., 'vanilla'): \")\n",
    "user_gender = input(\"Enter your gender (Women, Men, Unisex): \")\n",
    "user_min_price = float(input(\"Enter your minimum price: \"))\n",
    "user_max_price = float(input(\"Enter your maximum price: \"))\n",
    "\n",
    "# Evaluate all three models\n",
    "for model in [\"cosine\", \"euclidean\", \"random\"]:\n",
    "    print(f\"\\nRecommendations using {model} similarity:\")\n",
    "    recommended_perfumes = recommend_perfume_by_note_gender_price(\n",
    "        user_note, user_gender, (user_min_price, user_max_price), model_type=model\n",
    "    )\n",
    "    print(recommended_perfumes)"
   ]
  },
  {
   "cell_type": "markdown",
   "metadata": {},
   "source": [
    "The cosine similarity model is recommended because it consistently aligns well with the query criteria, providing relevant recommendations. Euclidean similarity's results may be more affected by feature scaling issues. The random similarity model serves as a baseline but lacks meaningful logic, making cosine similarity the most reliable and interpretable option."
   ]
  },
  {
   "cell_type": "markdown",
   "metadata": {},
   "source": [
    "## Cosine Similarity Model"
   ]
  },
  {
   "cell_type": "code",
   "execution_count": 208,
   "metadata": {},
   "outputs": [
    {
     "name": "stdout",
     "output_type": "stream",
     "text": [
      "\n",
      "Recommendations using cosine similarity:\n",
      "                                           title  price category\n",
      "597                  lancome, hypnose edp 75ml w  19000    Women\n",
      "370       giorgio armani, armani code edp 75ml w  18400    Women\n",
      "437                       gucci, rush edt 75ml w  15400    Women\n",
      "648        m.micallef, ylang in gold edp 100ml w  19000    Women\n",
      "167  carolina herrera, very good girl edp 80ml w  18700    Women\n"
     ]
    },
    {
     "name": "stderr",
     "output_type": "stream",
     "text": [
      "c:\\Users\\Vero\\anaconda3\\envs\\learn-env\\lib\\site-packages\\sklearn\\base.py:450: UserWarning: X does not have valid feature names, but MinMaxScaler was fitted with feature names\n",
      "  warnings.warn(\n"
     ]
    }
   ],
   "source": [
    "#Recommend perfumes based on note, gender, and price range using cosine similarity model\n",
    "def recommend_perfume_by_note_gender_price(note, gender, price_range, model_type=\"cosine\", num_recommendations=5):\n",
    "    # Map gender to encoded value\n",
    "    encoded_gender = category_mapping.get(gender.capitalize())\n",
    "    if encoded_gender is None:\n",
    "        return \"Invalid gender specified. Please enter 'Women', 'Men', or 'Unisex'.\"\n",
    "\n",
    "    min_price, max_price = price_range\n",
    "    filtered_df = df[(df['category_encoded'] == encoded_gender) &\n",
    "                     (df['price'] >= min_price) & (df['price'] <= max_price)]\n",
    "\n",
    "    if filtered_df.empty:\n",
    "        return \"No perfumes found for the given criteria.\"\n",
    "\n",
    "    # Create a query vector for the specified note using TF-IDF vectorizer\n",
    "    query_note_vector = tfidf_vectorizer.transform([note])\n",
    "\n",
    "    # Add gender and normalized price to the query vector\n",
    "    gender_vector = csr_matrix([[encoded_gender]])\n",
    "    price_vector = csr_matrix(scaler.transform([[min_price + (max_price - min_price) / 2]]))  # Midpoint of price range\n",
    "    query_vector = hstack([query_note_vector, gender_vector, price_vector])\n",
    "\n",
    "    # Ensure the query vector has the same number of features as the feature matrix\n",
    "    if query_vector.shape[1] != features_matrix.shape[1]:\n",
    "        # Fill missing features in the query vector with zeros if necessary\n",
    "        missing_columns = features_matrix.shape[1] - query_vector.shape[1]\n",
    "        query_vector = hstack([query_vector, csr_matrix([[0] * missing_columns])])\n",
    "\n",
    "    # Calculate similarity scores based on the chosen model\n",
    "    if model_type == \"cosine\":\n",
    "        sim_scores = cosine_similarity(query_vector, features_matrix[filtered_df.index, :]).flatten()\n",
    "\n",
    "    # Get indices of top recommendations\n",
    "    sim_indices = sim_scores.argsort()[::-1][:num_recommendations]\n",
    "    recommendations = filtered_df.iloc[sim_indices][['title', 'price', 'category']]\n",
    "\n",
    "    return recommendations\n",
    "\n",
    "# Example call\n",
    "user_note = input(\"Enter a note you like (e.g., 'vanilla'): \")\n",
    "user_gender = input(\"Enter your gender (Women, Men, Unisex): \")\n",
    "user_min_price = float(input(\"Enter your minimum price: \"))\n",
    "user_max_price = float(input(\"Enter your maximum price: \"))\n",
    "\n",
    "# Evaluate all three models\n",
    "for model in [\"cosine\"]:\n",
    "    print(f\"\\nRecommendations using {model} similarity:\")\n",
    "    recommended_perfumes = recommend_perfume_by_note_gender_price(\n",
    "        user_note, user_gender, (user_min_price, user_max_price), model_type=\"cosine\"\n",
    "    )\n",
    "    print(recommended_perfumes)"
   ]
  },
  {
   "cell_type": "code",
   "execution_count": 238,
   "metadata": {},
   "outputs": [],
   "source": [
    "# Example query\n",
    "query_note = \"vanilla\"\n",
    "query_gender = \"Women\"\n",
    "query_price_range = (15000, 20000)"
   ]
  },
  {
   "cell_type": "code",
   "execution_count": 239,
   "metadata": {
    "id": "mh66xrq0dCHR"
   },
   "outputs": [],
   "source": [
    "query_notes = [lemmatizer.lemmatize(n.strip().lower()) for n in query_note.split(', ')]"
   ]
  },
  {
   "cell_type": "code",
   "execution_count": 241,
   "metadata": {
    "id": "SPlRcvfhb8hb"
   },
   "outputs": [],
   "source": [
    "def gender_relevance(recommended_perfumes, query_gender, df):\n",
    "    \"\"\"\n",
    "    Calculate the proportion of recommended perfumes that match the desired gender.\n",
    "\n",
    "    Parameters:\n",
    "    recommended_perfumes: List of recommended perfume titles.\n",
    "    query_gender: Desired gender category (encoded as 'Women', 'Men', 'Unisex').\n",
    "    df: DataFrame containing perfume data.\n",
    "\n",
    "    Returns:\n",
    "    Gender relevance score (0 to 1).\n",
    "    \"\"\"\n",
    "    relevant_count = 0\n",
    "    for perfume in recommended_perfumes:\n",
    "        perfume_gender = df.loc[df['title'] == perfume, 'category'].values[0]\n",
    "        if perfume_gender.lower() == query_gender.lower():\n",
    "            relevant_count += 1\n",
    "    return relevant_count / len(recommended_perfumes) if recommended_perfumes else 0.0"
   ]
  },
  {
   "cell_type": "code",
   "execution_count": 242,
   "metadata": {
    "id": "C_JKPdX9cLS1"
   },
   "outputs": [],
   "source": [
    "def price_relevance(recommended_perfumes, price_range, df):\n",
    "    \"\"\"\n",
    "    Calculate the proportion of recommended perfumes that fall within the desired price range.\n",
    "\n",
    "    Parameters:\n",
    "    recommended_perfumes: List of recommended perfume titles.\n",
    "    price_range: Tuple of (min_price, max_price) specified by the user.\n",
    "    df: DataFrame containing perfume data.\n",
    "\n",
    "    Returns:\n",
    "    Price relevance score (0 to 1).\n",
    "    \"\"\"\n",
    "    min_price, max_price = price_range\n",
    "    relevant_count = 0\n",
    "    for perfume in recommended_perfumes:\n",
    "        perfume_price = df.loc[df['title'] == perfume, 'price'].values[0]\n",
    "        if min_price <= perfume_price <= max_price:\n",
    "            relevant_count += 1\n",
    "    return relevant_count / len(recommended_perfumes) if recommended_perfumes else 0.0"
   ]
  },
  {
   "cell_type": "code",
   "execution_count": 243,
   "metadata": {},
   "outputs": [],
   "source": [
    "def note_relevance(recommended_perfumes, query_notes, df):\n",
    "    total_matches = 0\n",
    "    total_notes = len(query_notes)\n",
    "\n",
    "    if total_notes == 0:\n",
    "        return 0.0  # Avoid division by zero if no query notes are provided\n",
    "\n",
    "    for perfume in recommended_perfumes:\n",
    "        # Get notes for the perfume\n",
    "        perfume_notes = df.loc[df['title'] == perfume, 'all_notes'].values[0]\n",
    "        # Ensure perfume_notes is a list\n",
    "        if not isinstance(perfume_notes, list):\n",
    "            perfume_notes = []\n",
    "        # Count matching notes\n",
    "        matches = sum(1 for note in query_notes if note in perfume_notes)\n",
    "        total_matches += matches\n",
    "\n",
    "    # Normalize by the total possible matches\n",
    "    return total_matches / (total_notes * len(recommended_perfumes))"
   ]
  },
  {
   "cell_type": "code",
   "execution_count": 41,
   "metadata": {
    "id": "vYVhx8IscPTy"
   },
   "outputs": [],
   "source": [
    "#print(df[['title', 'all_notes']].head(10))"
   ]
  },
  {
   "cell_type": "code",
   "execution_count": 244,
   "metadata": {
    "colab": {
     "base_uri": "https://localhost:8080/"
    },
    "id": "As0WUn6JcdhP",
    "outputId": "e1162375-5e48-4d5c-bb31-9f311a9a9073"
   },
   "outputs": [
    {
     "name": "stdout",
     "output_type": "stream",
     "text": [
      "Query Notes: ['vanilla']\n"
     ]
    }
   ],
   "source": [
    "print(f\"Query Notes: {query_notes}\")"
   ]
  },
  {
   "cell_type": "code",
   "execution_count": 248,
   "metadata": {
    "colab": {
     "base_uri": "https://localhost:8080/"
    },
    "id": "RD1f1fTccdoH",
    "outputId": "400de88c-aa9e-4e6e-fbcd-b7f8df90d944"
   },
   "outputs": [
    {
     "name": "stdout",
     "output_type": "stream",
     "text": [
      "Perfume: lancome, hypnose edp 75ml w, Notes: ['passion flower vanilla vetiver']\n",
      "Query Notes: ['vanilla']\n",
      "Matches: []\n",
      "Perfume: giorgio armani, armani code edp 75ml w, Notes: ['jasmine', 'orange orange blossom honey', 'vanilla']\n",
      "Query Notes: ['vanilla']\n",
      "Matches: ['vanilla']\n",
      "Perfume: gucci, rush edt 75ml w, Notes: ['freesia', 'peach', 'gardenia', 'coriander', 'rose', 'jasmine vanilla', 'patchouli']\n",
      "Query Notes: ['vanilla']\n",
      "Matches: []\n",
      "Perfume: m.micallef, ylang in gold edp 100ml w, Notes: ['head: geranium – citrus sandalwood – ylang ylang coconut – vanilla']\n",
      "Query Notes: ['vanilla']\n",
      "Matches: []\n",
      "Perfume: carolina herrera, very good girl edp 80ml w, Notes: ['red currant & lychee.', 'rose & lilly.', 'bottom  vanilla bourbon & vetiver.']\n",
      "Query Notes: ['vanilla']\n",
      "Matches: []\n"
     ]
    }
   ],
   "source": [
    "for perfume in recommended_perfumes:\n",
    "    perfume_notes = df.loc[df['title'] == perfume, 'all_notes'].values[0]\n",
    "    print(f\"Perfume: {perfume}, Notes: {perfume_notes}\")\n",
    "    print(f\"Query Notes: {query_notes}\")\n",
    "    matches = [note for note in query_notes if note in perfume_notes]\n",
    "    print(f\"Matches: {matches}\")"
   ]
  },
  {
   "cell_type": "code",
   "execution_count": 247,
   "metadata": {
    "colab": {
     "base_uri": "https://localhost:8080/"
    },
    "id": "yWVkblKAcqS8",
    "outputId": "352d4ed3-779a-48e7-8e97-c0251ad85fb2"
   },
   "outputs": [
    {
     "name": "stdout",
     "output_type": "stream",
     "text": [
      "Note Relevance: 0.2000\n",
      "Gender Relevance: 1.0000\n",
      "Price Relevance: 1.0000\n"
     ]
    },
    {
     "name": "stderr",
     "output_type": "stream",
     "text": [
      "c:\\Users\\Vero\\anaconda3\\envs\\learn-env\\lib\\site-packages\\sklearn\\base.py:450: UserWarning: X does not have valid feature names, but MinMaxScaler was fitted with feature names\n",
      "  warnings.warn(\n"
     ]
    }
   ],
   "source": [
    "# Get recommendations\n",
    "recommended_perfumes = recommend_perfume_by_note_gender_price(\n",
    "    note=query_note,\n",
    "    gender=query_gender,\n",
    "    price_range=query_price_range,\n",
    "    model_type=\"cosine\",\n",
    "    num_recommendations=5\n",
    ")['title'].tolist()\n",
    "\n",
    "# Calculate relevance metrics\n",
    "note_rel = note_relevance(recommended_perfumes, query_notes, df)\n",
    "gender_rel = gender_relevance(recommended_perfumes, query_gender, df)\n",
    "price_rel = price_relevance(recommended_perfumes, query_price_range, df)\n",
    "\n",
    "# Display results\n",
    "print(f\"Note Relevance: {note_rel:.4f}\")\n",
    "print(f\"Gender Relevance: {gender_rel:.4f}\")\n",
    "print(f\"Price Relevance: {price_rel:.4f}\")"
   ]
  },
  {
   "cell_type": "markdown",
   "metadata": {},
   "source": [
    "## Conclusion\n",
    "The perfume recommender system successfully identifies and ranks perfumes based on user preferences for notes, gender, and price range. The cosine similarity model demonstrated the best alignment with query criteria, providing consistent and relevant recommendations."
   ]
  },
  {
   "cell_type": "markdown",
   "metadata": {},
   "source": [
    "# Recommendations"
   ]
  },
  {
   "cell_type": "markdown",
   "metadata": {},
   "source": [
    "* Incorporate user feedback mechanisms to improve recommendations over time. For instance, allow users to rate suggested perfumes, and use this data to refine future recommendations.\n",
    "\n",
    "\n",
    "* Enhance the system by integrating additional features such as brand preferences, customer reviews, or seasonal trends to provide more holistic recommendations.\n",
    "\n",
    "\n",
    "*  Continuously test and optimize the weights assigned to notes, gender, and price to ensure recommendations remain relevant as user preferences and dataset characteristics evolve."
   ]
  }
 ],
 "metadata": {
  "colab": {
   "provenance": []
  },
  "kernelspec": {
   "display_name": "learn-env",
   "language": "python",
   "name": "python3"
  },
  "language_info": {
   "codemirror_mode": {
    "name": "ipython",
    "version": 3
   },
   "file_extension": ".py",
   "mimetype": "text/x-python",
   "name": "python",
   "nbconvert_exporter": "python",
   "pygments_lexer": "ipython3",
   "version": "3.8.5"
  }
 },
 "nbformat": 4,
 "nbformat_minor": 0
}
