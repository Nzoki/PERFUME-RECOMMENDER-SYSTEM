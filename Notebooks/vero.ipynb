{
 "cells": [
  {
   "cell_type": "code",
   "execution_count": 96,
   "metadata": {},
   "outputs": [],
   "source": [
    "import pandas as pd\n",
    "import numpy as np\n",
    "import matplotlib.pyplot as plt\n",
    "import seaborn as sns\n",
    "from sklearn.pipeline import Pipeline\n",
    "from sklearn.impute import SimpleImputer\n",
    "from sklearn.decomposition import TruncatedSVD\n",
    "from sklearn.model_selection import GridSearchCV, train_test_split"
   ]
  },
  {
   "cell_type": "code",
   "execution_count": 97,
   "metadata": {},
   "outputs": [
    {
     "data": {
      "text/html": [
       "<div>\n",
       "<style scoped>\n",
       "    .dataframe tbody tr th:only-of-type {\n",
       "        vertical-align: middle;\n",
       "    }\n",
       "\n",
       "    .dataframe tbody tr th {\n",
       "        vertical-align: top;\n",
       "    }\n",
       "\n",
       "    .dataframe thead th {\n",
       "        text-align: right;\n",
       "    }\n",
       "</style>\n",
       "<table border=\"1\" class=\"dataframe\">\n",
       "  <thead>\n",
       "    <tr style=\"text-align: right;\">\n",
       "      <th></th>\n",
       "      <th>category</th>\n",
       "      <th>title</th>\n",
       "      <th>price</th>\n",
       "      <th>link</th>\n",
       "      <th>image</th>\n",
       "      <th>description</th>\n",
       "      <th>top</th>\n",
       "      <th>middle</th>\n",
       "      <th>base</th>\n",
       "    </tr>\n",
       "  </thead>\n",
       "  <tbody>\n",
       "    <tr>\n",
       "      <th>0</th>\n",
       "      <td>Women</td>\n",
       "      <td>Aberchrombie &amp; Fitch, Authentic Away Edp 100Ml...</td>\n",
       "      <td>KSh10,900.00</td>\n",
       "      <td>https://cierraperfumes.com/product/aberchrombi...</td>\n",
       "      <td>https://i0.wp.com/cierraperfumes.com/wp-conten...</td>\n",
       "      <td>The journey is a trip, but the destination is ...</td>\n",
       "      <td>Top Notes: Brazilian Mandarin, Red Currant, Pear</td>\n",
       "      <td>Heart Notes: Plush Pink Freesia, Muguet and Ja...</td>\n",
       "      <td>Base Notes: Warm Praline, Amber, Musk</td>\n",
       "    </tr>\n",
       "    <tr>\n",
       "      <th>1</th>\n",
       "      <td>Women</td>\n",
       "      <td>Aberchrombie &amp; Fitch, Authentic Night Edp 100Ml W</td>\n",
       "      <td>KSh7,400.00</td>\n",
       "      <td>https://cierraperfumes.com/product/aberchrombi...</td>\n",
       "      <td>https://i0.wp.com/cierraperfumes.com/wp-conten...</td>\n",
       "      <td>Authentic Night for Women is for the woman who...</td>\n",
       "      <td>Fragrance Notes:</td>\n",
       "      <td>A mouth-watering combination of Black Currant,...</td>\n",
       "      <td>NaN</td>\n",
       "    </tr>\n",
       "    <tr>\n",
       "      <th>2</th>\n",
       "      <td>Women</td>\n",
       "      <td>Aberchrombie &amp; Fitch, Authentic Night Edp 100M...</td>\n",
       "      <td>KSh9,100.00</td>\n",
       "      <td>https://cierraperfumes.com/product/aberchrombi...</td>\n",
       "      <td>https://i0.wp.com/cierraperfumes.com/wp-conten...</td>\n",
       "      <td>Authentic Night by Abercrombie &amp; Fitch 100ml E...</td>\n",
       "      <td>3 Piece Set Includes:</td>\n",
       "      <td>– 100ml Eau De Parfum Spray– 200ml Perfumed Bo...</td>\n",
       "      <td>Authentic Night for Women is for the woman who...</td>\n",
       "    </tr>\n",
       "    <tr>\n",
       "      <th>3</th>\n",
       "      <td>Women</td>\n",
       "      <td>AFNAN, 9AM EDP 100ML W</td>\n",
       "      <td>KSh6,500.00</td>\n",
       "      <td>https://cierraperfumes.com/product/afnan-9am-e...</td>\n",
       "      <td>https://i0.wp.com/cierraperfumes.com/wp-conten...</td>\n",
       "      <td>Afnan 9am perfume for women is a fruity-spicy ...</td>\n",
       "      <td>Top Notes: Mandarin, Cedrat, Cardamom and Pink...</td>\n",
       "      <td>Middle Notes: Lavender, Orange Blossom, Rose a...</td>\n",
       "      <td>Base Notes: Cedarwood, Moss, Patchouli and Musk</td>\n",
       "    </tr>\n",
       "    <tr>\n",
       "      <th>4</th>\n",
       "      <td>Women</td>\n",
       "      <td>AFNAN, VIOLET BOUQUET EDP 100ML W</td>\n",
       "      <td>KSh7,300.00</td>\n",
       "      <td>https://cierraperfumes.com/product/afnan-viole...</td>\n",
       "      <td>https://i0.wp.com/cierraperfumes.com/wp-conten...</td>\n",
       "      <td>Violet Bouquet is an opulent signature scent o...</td>\n",
       "      <td>Top notes: Sweet, Woody, Saffron, Citrus.</td>\n",
       "      <td>Middle notes: Aromatic, Amber, Orange, Citrus ...</td>\n",
       "      <td>Base notes: Fresh Spicy, Ambergris, Oak Moss, ...</td>\n",
       "    </tr>\n",
       "  </tbody>\n",
       "</table>\n",
       "</div>"
      ],
      "text/plain": [
       "  category                                              title         price  \\\n",
       "0    Women  Aberchrombie & Fitch, Authentic Away Edp 100Ml...  KSh10,900.00   \n",
       "1    Women  Aberchrombie & Fitch, Authentic Night Edp 100Ml W   KSh7,400.00   \n",
       "2    Women  Aberchrombie & Fitch, Authentic Night Edp 100M...   KSh9,100.00   \n",
       "3    Women                             AFNAN, 9AM EDP 100ML W   KSh6,500.00   \n",
       "4    Women                  AFNAN, VIOLET BOUQUET EDP 100ML W   KSh7,300.00   \n",
       "\n",
       "                                                link  \\\n",
       "0  https://cierraperfumes.com/product/aberchrombi...   \n",
       "1  https://cierraperfumes.com/product/aberchrombi...   \n",
       "2  https://cierraperfumes.com/product/aberchrombi...   \n",
       "3  https://cierraperfumes.com/product/afnan-9am-e...   \n",
       "4  https://cierraperfumes.com/product/afnan-viole...   \n",
       "\n",
       "                                               image  \\\n",
       "0  https://i0.wp.com/cierraperfumes.com/wp-conten...   \n",
       "1  https://i0.wp.com/cierraperfumes.com/wp-conten...   \n",
       "2  https://i0.wp.com/cierraperfumes.com/wp-conten...   \n",
       "3  https://i0.wp.com/cierraperfumes.com/wp-conten...   \n",
       "4  https://i0.wp.com/cierraperfumes.com/wp-conten...   \n",
       "\n",
       "                                         description  \\\n",
       "0  The journey is a trip, but the destination is ...   \n",
       "1  Authentic Night for Women is for the woman who...   \n",
       "2  Authentic Night by Abercrombie & Fitch 100ml E...   \n",
       "3  Afnan 9am perfume for women is a fruity-spicy ...   \n",
       "4  Violet Bouquet is an opulent signature scent o...   \n",
       "\n",
       "                                                 top  \\\n",
       "0   Top Notes: Brazilian Mandarin, Red Currant, Pear   \n",
       "1                                   Fragrance Notes:   \n",
       "2                              3 Piece Set Includes:   \n",
       "3  Top Notes: Mandarin, Cedrat, Cardamom and Pink...   \n",
       "4          Top notes: Sweet, Woody, Saffron, Citrus.   \n",
       "\n",
       "                                              middle  \\\n",
       "0  Heart Notes: Plush Pink Freesia, Muguet and Ja...   \n",
       "1  A mouth-watering combination of Black Currant,...   \n",
       "2  – 100ml Eau De Parfum Spray– 200ml Perfumed Bo...   \n",
       "3  Middle Notes: Lavender, Orange Blossom, Rose a...   \n",
       "4  Middle notes: Aromatic, Amber, Orange, Citrus ...   \n",
       "\n",
       "                                                base  \n",
       "0              Base Notes: Warm Praline, Amber, Musk  \n",
       "1                                                NaN  \n",
       "2  Authentic Night for Women is for the woman who...  \n",
       "3    Base Notes: Cedarwood, Moss, Patchouli and Musk  \n",
       "4  Base notes: Fresh Spicy, Ambergris, Oak Moss, ...  "
      ]
     },
     "execution_count": 97,
     "metadata": {},
     "output_type": "execute_result"
    }
   ],
   "source": [
    "df = pd.read_csv('D:\\\\Users\\\\Vero\\\\Desktop\\\\PERFUME RECOMMENDER SYSTEM\\\\Data\\\\cierra_updated.csv')\n",
    "df.head()"
   ]
  },
  {
   "cell_type": "code",
   "execution_count": 98,
   "metadata": {},
   "outputs": [
    {
     "name": "stdout",
     "output_type": "stream",
     "text": [
      "<class 'pandas.core.frame.DataFrame'>\n",
      "RangeIndex: 2479 entries, 0 to 2478\n",
      "Data columns (total 9 columns):\n",
      " #   Column       Non-Null Count  Dtype \n",
      "---  ------       --------------  ----- \n",
      " 0   category     2479 non-null   object\n",
      " 1   title        2479 non-null   object\n",
      " 2   price        2478 non-null   object\n",
      " 3   link         2479 non-null   object\n",
      " 4   image        2477 non-null   object\n",
      " 5   description  2340 non-null   object\n",
      " 6   top          1920 non-null   object\n",
      " 7   middle       1530 non-null   object\n",
      " 8   base         1233 non-null   object\n",
      "dtypes: object(9)\n",
      "memory usage: 174.4+ KB\n"
     ]
    }
   ],
   "source": [
    "df.info()"
   ]
  },
  {
   "cell_type": "code",
   "execution_count": 99,
   "metadata": {},
   "outputs": [
    {
     "name": "stdout",
     "output_type": "stream",
     "text": [
      "price             1\n",
      "image             2\n",
      "description     139\n",
      "top             559\n",
      "middle          949\n",
      "base           1246\n",
      "dtype: int64\n"
     ]
    }
   ],
   "source": [
    "# Check the number of missing values in each column\n",
    "missing_values = df.isnull().sum()\n",
    "\n",
    "# Display columns with missing values\n",
    "print(missing_values[missing_values > 0])"
   ]
  },
  {
   "cell_type": "code",
   "execution_count": 100,
   "metadata": {},
   "outputs": [],
   "source": [
    "# Fill missing values with 0\n",
    "df['price'] = df['price'].fillna('KSh0')\n",
    "\n",
    "# Remove \"KSh\" and commas, then convert to integer\n",
    "df['price'] = df['price'].replace({'KSh': '', ',': ''}, regex=True).astype(float).astype(int)"
   ]
  },
  {
   "cell_type": "code",
   "execution_count": 101,
   "metadata": {},
   "outputs": [],
   "source": [
    "#dropping unncessary columns\n",
    "df = df.drop(columns=['description'])"
   ]
  },
  {
   "cell_type": "code",
   "execution_count": 102,
   "metadata": {},
   "outputs": [],
   "source": [
    "df['top'] = df['top'].fillna('Unknown')\n",
    "df['middle'] = df['middle'].fillna('Unknown')\n",
    "df['base'] = df['base'].fillna('Unknown')\n",
    "df['image'] = df['image'].fillna('Unknown')"
   ]
  },
  {
   "cell_type": "code",
   "execution_count": 103,
   "metadata": {},
   "outputs": [
    {
     "data": {
      "text/plain": [
       "0"
      ]
     },
     "execution_count": 103,
     "metadata": {},
     "output_type": "execute_result"
    }
   ],
   "source": [
    "# Check the number of missing values \n",
    "df.isnull().values.sum()"
   ]
  },
  {
   "cell_type": "code",
   "execution_count": 104,
   "metadata": {},
   "outputs": [
    {
     "data": {
      "image/png": "[encoded data removed]",
      "text/plain": [
       "<Figure size 576x360 with 1 Axes>"
      ]
     },
     "metadata": {
      "needs_background": "light"
     },
     "output_type": "display_data"
    }
   ],
   "source": [
    "import matplotlib.pyplot as plt\n",
    "import seaborn as sns\n",
    "\n",
    "# Histogram of prices\n",
    "plt.figure(figsize=(8, 5))\n",
    "sns.histplot(df['price'], bins=20, kde=True)\n",
    "plt.title(\"Price Distribution of Perfumes\")\n",
    "plt.xlabel(\"Price\")\n",
    "plt.ylabel(\"Frequency\")\n",
    "plt.show()"
   ]
  },
  {
   "cell_type": "code",
   "execution_count": 105,
   "metadata": {},
   "outputs": [
    {
     "data": {
      "image/png": "[encoded data removed]",
      "text/plain": [
       "<Figure size 720x432 with 1 Axes>"
      ]
     },
     "metadata": {
      "needs_background": "light"
     },
     "output_type": "display_data"
    }
   ],
   "source": [
    "import matplotlib.pyplot as plt\n",
    "import seaborn as sns\n",
    "\n",
    "plt.figure(figsize=(10, 6))\n",
    "sns.countplot(data=df, x='category', palette='viridis')\n",
    "plt.title('Count of Perfumes by Category')\n",
    "plt.xlabel('Category')\n",
    "plt.ylabel('Count')\n",
    "plt.show()"
   ]
  },
  {
   "cell_type": "code",
   "execution_count": 106,
   "metadata": {},
   "outputs": [
    {
     "data": {
      "image/png": "[encoded data removed]",
      "text/plain": [
       "<Figure size 720x432 with 1 Axes>"
      ]
     },
     "metadata": {
      "needs_background": "light"
     },
     "output_type": "display_data"
    }
   ],
   "source": [
    "plt.figure(figsize=(10, 6))\n",
    "sns.boxplot(data=df, x='category', y='price', palette='viridis')\n",
    "plt.title('Price Distribution by Category')\n",
    "plt.xlabel('Category')\n",
    "plt.ylabel('Price')\n",
    "plt.show()"
   ]
  },
  {
   "cell_type": "code",
   "execution_count": 107,
   "metadata": {},
   "outputs": [],
   "source": [
    "# Split the 'top', 'middle', and 'base' columns by commas\n",
    "df['top_notes'] = df['top'].str.split(',')\n",
    "df['middle_notes'] = df['middle'].str.split(',')\n",
    "df['base_notes'] = df['base'].str.split(',')"
   ]
  },
  {
   "cell_type": "code",
   "execution_count": 108,
   "metadata": {},
   "outputs": [],
   "source": [
    "# Remove any leading or trailing whitespace from each note\n",
    "df['top_notes'] = df['top_notes'].apply(lambda x: [note.strip() for note in x] if isinstance(x, list) else [])\n",
    "df['middle_notes'] = df['middle_notes'].apply(lambda x: [note.strip() for note in x] if isinstance(x, list) else [])\n",
    "df['base_notes'] = df['base_notes'].apply(lambda x: [note.strip() for note in x] if isinstance(x, list) else [])"
   ]
  },
  {
   "cell_type": "code",
   "execution_count": 109,
   "metadata": {},
   "outputs": [],
   "source": [
    "# Combine all notes into a single list per perfume\n",
    "df['all_notes'] = df['top_notes'] + df['middle_notes'] + df['base_notes']"
   ]
  },
  {
   "cell_type": "code",
   "execution_count": 110,
   "metadata": {},
   "outputs": [],
   "source": [
    "from sklearn.preprocessing import MultiLabelBinarizer\n",
    "\n",
    "# Initialize the one-hot encoder\n",
    "mlb = MultiLabelBinarizer()\n",
    "\n",
    "# Fit and transform the 'all_notes' column\n",
    "note_features = mlb.fit_transform(df['all_notes'])\n",
    "\n",
    "# Create a DataFrame with the one-hot encoded notes\n",
    "note_features_df = pd.DataFrame(note_features, columns=mlb.classes_)\n",
    "\n",
    "# Concatenate the one-hot encoded notes back to the original DataFrame\n",
    "df = pd.concat([df, note_features_df], axis=1)"
   ]
  },
  {
   "cell_type": "code",
   "execution_count": 111,
   "metadata": {},
   "outputs": [],
   "source": [
    "from sklearn.preprocessing import LabelEncoder\n",
    "\n",
    "# Initialize the label encoder\n",
    "label_encoder = LabelEncoder()\n",
    "\n",
    "# Fit and transform the 'category' column\n",
    "df['category_encoded'] = label_encoder.fit_transform(df['category'])"
   ]
  },
  {
   "cell_type": "code",
   "execution_count": 112,
   "metadata": {},
   "outputs": [
    {
     "name": "stdout",
     "output_type": "stream",
     "text": [
      "{'Men': 0, 'Unisex': 1, 'Women': 2}\n"
     ]
    }
   ],
   "source": [
    "category_mapping = dict(zip(label_encoder.classes_, label_encoder.transform(label_encoder.classes_)))\n",
    "print(category_mapping)"
   ]
  },
  {
   "cell_type": "code",
   "execution_count": 113,
   "metadata": {},
   "outputs": [],
   "source": [
    "# One-hot encode the 'category' column\n",
    "df = pd.get_dummies(df, columns=['category'], prefix='category')"
   ]
  },
  {
   "cell_type": "code",
   "execution_count": 114,
   "metadata": {},
   "outputs": [
    {
     "data": {
      "image/png": "[encoded data removed]",
      "text/plain": [
       "<Figure size 576x360 with 1 Axes>"
      ]
     },
     "metadata": {
      "needs_background": "light"
     },
     "output_type": "display_data"
    }
   ],
   "source": [
    "# Filter perfumes containing a specific note and plot their prices\n",
    "Patchouli_perfumes = df[df['all_notes'].apply(lambda x: 'Patchouli' in x)]\n",
    "plt.figure(figsize=(8, 5))\n",
    "sns.boxplot(x=Patchouli_perfumes['price'])\n",
    "plt.title(\"Price Distribution for Patchouli Perfumes\")\n",
    "plt.xlabel(\"Price\")\n",
    "plt.show()"
   ]
  },
  {
   "cell_type": "code",
   "execution_count": 115,
   "metadata": {},
   "outputs": [
    {
     "name": "stdout",
     "output_type": "stream",
     "text": [
      "Requirement already satisfied: wordcloud in c:\\users\\vero\\anaconda3\\envs\\learn-env\\lib\\site-packages (1.9.3)Note: you may need to restart the kernel to use updated packages.\n",
      "Collecting matplotlib\n",
      "  Using cached matplotlib-3.7.5-cp38-cp38-win_amd64.whl (7.5 MB)\n",
      "Requirement already satisfied: numpy>=1.6.1 in c:\\users\\vero\\anaconda3\\envs\\learn-env\\lib\\site-packages (from wordcloud) (1.22.0)\n",
      "Requirement already satisfied: pillow in c:\\users\\vero\\anaconda3\\envs\\learn-env\\lib\\site-packages (from wordcloud) (8.0.0)\n",
      "Requirement already satisfied: importlib-resources>=3.2.0; python_version < \"3.10\" in c:\\users\\vero\\anaconda3\\envs\\learn-env\\lib\\site-packages (from matplotlib->wordcloud) (6.4.5)\n",
      "Requirement already satisfied: pyparsing>=2.3.1 in c:\\users\\vero\\anaconda3\\envs\\learn-env\\lib\\site-packages (from matplotlib->wordcloud) (2.4.7)\n",
      "Requirement already satisfied: python-dateutil>=2.7 in c:\\users\\vero\\anaconda3\\envs\\learn-env\\lib\\site-packages (from matplotlib->wordcloud) (2.8.1)\n",
      "Requirement already satisfied: packaging>=20.0 in c:\\users\\vero\\anaconda3\\envs\\learn-env\\lib\\site-packages (from matplotlib->wordcloud) (20.4)\n",
      "Requirement already satisfied: fonttools>=4.22.0 in c:\\users\\vero\\anaconda3\\envs\\learn-env\\lib\\site-packages (from matplotlib->wordcloud) (4.54.1)\n",
      "Requirement already satisfied: kiwisolver>=1.0.1 in c:\\users\\vero\\anaconda3\\envs\\learn-env\\lib\\site-packages (from matplotlib->wordcloud) (1.2.0)\n",
      "Requirement already satisfied: contourpy>=1.0.1 in c:\\users\\vero\\anaconda3\\envs\\learn-env\\lib\\site-packages (from matplotlib->wordcloud) (1.1.1)\n",
      "Requirement already satisfied: cycler>=0.10 in c:\\users\\vero\\anaconda3\\envs\\learn-env\\lib\\site-packages (from matplotlib->wordcloud) (0.10.0)\n",
      "Requirement already satisfied: zipp>=3.1.0; python_version < \"3.10\" in c:\\users\\vero\\anaconda3\\envs\\learn-env\\lib\\site-packages (from importlib-resources>=3.2.0; python_version < \"3.10\"->matplotlib->wordcloud) (3.3.0)\n",
      "Requirement already satisfied: six>=1.5 in c:\\users\\vero\\anaconda3\\envs\\learn-env\\lib\\site-packages (from python-dateutil>=2.7->matplotlib->wordcloud) (1.15.0)\n",
      "Installing collected packages: matplotlib\n",
      "\n"
     ]
    },
    {
     "name": "stderr",
     "output_type": "stream",
     "text": [
      "ERROR: Could not install packages due to an EnvironmentError: [WinError 5] Access is denied: 'c:\\\\Users\\\\Vero\\\\anaconda3\\\\envs\\\\learn-env\\\\Lib\\\\site-packages\\\\matplotlib\\\\_image.cp38-win_amd64.pyd'\n",
      "Consider using the `--user` option or check the permissions.\n",
      "\n"
     ]
    }
   ],
   "source": [
    "pip install wordcloud"
   ]
  },
  {
   "cell_type": "code",
   "execution_count": 117,
   "metadata": {},
   "outputs": [
    {
     "name": "stdout",
     "output_type": "stream",
     "text": [
      "                                                 title  price  \\\n",
      "328  Elizabeth Arden, Green Tea Nectarine Blossom E...   4300   \n",
      "\n",
      "     category_encoded  \n",
      "328                 2  \n"
     ]
    }
   ],
   "source": [
    "import pandas as pd\n",
    "import random\n",
    "def recommend_perfume_by_gender_and_price(gender, price_range):\n",
    "    # Map gender to encoded value if necessary (create a mapping beforehand)\n",
    "    gender_mapping = {'Women': 0, 'Men': 1, 'Unisex': 2}  # Example mapping, adjust based on your encoding\n",
    "    encoded_gender = gender_mapping.get(gender.capitalize())  # Assuming labels are capitalized\n",
    "\n",
    "    # Filter the DataFrame by gender (make sure to use the correct encoded column)\n",
    "    filtered_df = df[df['category_encoded'] == encoded_gender]\n",
    "\n",
    "    # Further filter by price range\n",
    "    min_price, max_price = price_range\n",
    "    filtered_df = filtered_df[(filtered_df['price'] >= min_price) & (filtered_df['price'] <= max_price)]\n",
    "\n",
    "    # Check if any perfumes are found\n",
    "    if filtered_df.empty:\n",
    "        return \"No perfumes found for the given criteria.\"\n",
    "    \n",
    "    # Randomly recommend a perfume from the filtered list\n",
    "    recommended_perfume = filtered_df.sample(n=1)\n",
    "    return recommended_perfume[['title', 'price', 'category_encoded']]\n",
    "\n",
    "# User input example\n",
    "user_gender = input(\"Enter your gender (Women, Men, Unisex): \")\n",
    "user_min_price = float(input(\"Enter your minimum price: \"))\n",
    "user_max_price = float(input(\"Enter your maximum price: \"))\n",
    "\n",
    "# Call the recommendation function\n",
    "recommended = recommend_perfume_by_gender_and_price(user_gender, (user_min_price, user_max_price))\n",
    "\n",
    "# Display the recommendation\n",
    "print(recommended)"
   ]
  }
 ],
 "metadata": {
  "kernelspec": {
   "display_name": "learn-env",
   "language": "python",
   "name": "python3"
  },
  "language_info": {
   "codemirror_mode": {
    "name": "ipython",
    "version": 3
   },
   "file_extension": ".py",
   "mimetype": "text/x-python",
   "name": "python",
   "nbconvert_exporter": "python",
   "pygments_lexer": "ipython3",
   "version": "3.8.5"
  }
 },
 "nbformat": 4,
 "nbformat_minor": 2
}
