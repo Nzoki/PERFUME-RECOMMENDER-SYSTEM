{
 "cells": [
  {
   "cell_type": "code",
   "execution_count": 5,
   "id": "7dc6efc1-fb35-4a8e-a9ab-e0d858079689",
   "metadata": {},
   "outputs": [],
   "source": [
    "import pickle\n",
    "import os\n",
    "from scipy.sparse import csr_matrix, hstack\n",
    "from sklearn.metrics.pairwise import cosine_similarity\n",
    "import pandas as pd\n",
    "\n",
    "def load_pickled_objects(folder=\"models\"):\n",
    "    loaded_objects = {}\n",
    "    for obj_name in [\"tfidf_vectorizer\", \"scaler\", \"category_mapping\", \"features_matrix\", \"df\"]:\n",
    "        with open(os.path.join(folder, f\"{obj_name}.pkl\"), \"rb\") as f:\n",
    "            loaded_objects[obj_name] = pickle.load(f)\n",
    "    return loaded_objects\n",
    "\n",
    "# Load the pickled objects into variables\n",
    "pickled_objects = load_pickled_objects()\n",
    "tfidf_vectorizer = pickled_objects[\"tfidf_vectorizer\"]\n",
    "scaler = pickled_objects[\"scaler\"]\n",
    "category_mapping = pickled_objects[\"category_mapping\"]\n",
    "features_matrix = pickled_objects[\"features_matrix\"]\n",
    "df = pickled_objects[\"df\"]"
   ]
  },
  {
   "cell_type": "code",
   "execution_count": 6,
   "id": "a46cbccc-350f-4b25-8d7d-9bb8c3f704ad",
   "metadata": {},
   "outputs": [],
   "source": [
    "def recommend_perfume_by_note_gender_price(note, gender, price_range, model_type=\"cosine\", num_recommendations=5):\n",
    "    # Load pickled objects from models/ folder\n",
    "    pickled_objects = load_pickled_objects(folder=\"models\")\n",
    "    tfidf_vectorizer = pickled_objects[\"tfidf_vectorizer\"]\n",
    "    scaler = pickled_objects[\"scaler\"]\n",
    "    category_mapping = pickled_objects[\"category_mapping\"]\n",
    "    features_matrix = pickled_objects[\"features_matrix\"]\n",
    "    df = pickled_objects[\"df\"]\n",
    "\n",
    "    # Map gender to encoded value\n",
    "    encoded_gender = category_mapping.get(gender.capitalize())\n",
    "    if encoded_gender is None:\n",
    "        return \"Invalid gender specified. Please enter 'Women', 'Men', or 'Unisex'.\"\n",
    "\n",
    "    min_price, max_price = price_range\n",
    "    filtered_df = df[(df['category_encoded'] == encoded_gender) &\n",
    "                     (df['price'] >= min_price) & (df['price'] <= max_price)]\n",
    "\n",
    "    if filtered_df.empty:\n",
    "        return \"No perfumes found for the given criteria.\"\n",
    "\n",
    "    # Create a query vector for the specified note using TF-IDF vectorizer\n",
    "    query_note_vector = tfidf_vectorizer.transform([note])\n",
    "\n",
    "    # Add gender and normalized price to the query vector\n",
    "    gender_vector = csr_matrix([[encoded_gender]])\n",
    "    price_vector = csr_matrix(scaler.transform([[min_price + (max_price - min_price) / 2]]))  # Midpoint of price range\n",
    "    query_vector = hstack([query_note_vector, gender_vector, price_vector])\n",
    "\n",
    "    # Ensure the query vector has the same number of features as the feature matrix\n",
    "    if query_vector.shape[1] != features_matrix.shape[1]:\n",
    "        # Fill missing features in the query vector with zeros if necessary\n",
    "        missing_columns = features_matrix.shape[1] - query_vector.shape[1]\n",
    "        query_vector = hstack([query_vector, csr_matrix([[0] * missing_columns])])\n",
    "\n",
    "    # Calculate similarity scores based on the chosen model\n",
    "    if model_type == \"cosine\":\n",
    "        sim_scores = cosine_similarity(query_vector, features_matrix[filtered_df.index, :]).flatten()\n",
    "\n",
    "    # Get indices of top recommendations\n",
    "    sim_indices = sim_scores.argsort()[::-1][:num_recommendations]\n",
    "    recommendations = filtered_df.iloc[sim_indices][['title', 'price', 'category']]\n",
    "\n",
    "    return recommendations\n"
   ]
  },
  {
   "cell_type": "code",
   "execution_count": 7,
   "id": "56afc6d7-48db-4ec0-a8a4-4e5217b0b9e1",
   "metadata": {},
   "outputs": [
    {
     "name": "stdin",
     "output_type": "stream",
     "text": [
      "Enter a note you like (e.g., 'vanilla'):  vanilla\n",
      "Enter your gender (Women, Men, Unisex):  men\n",
      "Enter your minimum price:  50000\n",
      "Enter your maximum price:  60000\n"
     ]
    },
    {
     "name": "stdout",
     "output_type": "stream",
     "text": [
      "\n",
      "Recommendations using cosine similarity:\n",
      "                                       title  price category\n",
      "1600             roja, elysium parfum 50ml m  53700      Men\n",
      "1557   parfums de marly, perseus edp 125ml m  55300      Men\n",
      "1481  mdci parfums, ambre topkapi edp 75ml m  58100      Men\n",
      "1194               creed, viking edp 100ml m  54300      Men\n",
      "1188              creed, aventus edp 100ml m  52200      Men\n"
     ]
    },
    {
     "name": "stderr",
     "output_type": "stream",
     "text": [
      "C:\\Users\\Sam\\AppData\\Local\\Packages\\PythonSoftwareFoundation.Python.3.12_qbz5n2kfra8p0\\LocalCache\\local-packages\\Python312\\site-packages\\sklearn\\base.py:493: UserWarning: X does not have valid feature names, but MinMaxScaler was fitted with feature names\n",
      "  warnings.warn(\n"
     ]
    }
   ],
   "source": [
    "user_note = input(\"Enter a note you like (e.g., 'vanilla'): \")\n",
    "user_gender = input(\"Enter your gender (Women, Men, Unisex): \")\n",
    "user_min_price = float(input(\"Enter your minimum price: \"))\n",
    "user_max_price = float(input(\"Enter your maximum price: \"))\n",
    "\n",
    "# Evaluate all three models\n",
    "for model in [\"cosine\"]:\n",
    "    print(f\"\\nRecommendations using {model} similarity:\")\n",
    "    recommended_perfumes = recommend_perfume_by_note_gender_price(\n",
    "        user_note, user_gender, (user_min_price, user_max_price), model_type=\"cosine\"\n",
    "    )\n",
    "    print(recommended_perfumes)"
   ]
  }
 ],
 "metadata": {
  "kernelspec": {
   "display_name": "Python 3 (ipykernel)",
   "language": "python",
   "name": "python3"
  },
  "language_info": {
   "codemirror_mode": {
    "name": "ipython",
    "version": 3
   },
   "file_extension": ".py",
   "mimetype": "text/x-python",
   "name": "python",
   "nbconvert_exporter": "python",
   "pygments_lexer": "ipython3",
   "version": "3.12.7"
  }
 },
 "nbformat": 4,
 "nbformat_minor": 5
}
