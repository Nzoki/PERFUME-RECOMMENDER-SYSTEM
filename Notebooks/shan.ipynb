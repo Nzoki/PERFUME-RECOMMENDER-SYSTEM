{
 "cells": [
  {
   "cell_type": "markdown",
   "metadata": {},
   "source": [
    "### Import Libraries"
   ]
  },
  {
   "cell_type": "code",
   "execution_count": 148,
   "metadata": {},
   "outputs": [],
   "source": [
    "import pandas as pd\n",
    "import numpy as np\n",
    "import matplotlib.pyplot as plt\n",
    "import seaborn as sns\n",
    "from sklearn.pipeline import Pipeline\n",
    "from sklearn.impute import SimpleImputer\n",
    "from sklearn.decomposition import TruncatedSVD\n",
    "from sklearn.model_selection import GridSearchCV, train_test_split\n",
    "from sklearn.metrics import mean_squared_error, make_scorer\n",
    "\n",
    "from sklearn.feature_extraction.text import TfidfVectorizer\n",
    "from sklearn.metrics.pairwise import cosine_similarity\n",
    "from sklearn.neighbors import NearestNeighbors\n",
    "\n",
    "from surprise.model_selection import cross_validate\n",
    "from surprise.prediction_algorithms import SVD\n",
    "from surprise.prediction_algorithms import KNNWithMeans, KNNBasic, KNNBaseline\n",
    "from surprise.model_selection import GridSearchCV\n",
    "from surprise import Reader, Dataset\n",
    "import numpy as np"
   ]
  },
  {
   "cell_type": "markdown",
   "metadata": {},
   "source": [
    "### Loading Dataset"
   ]
  },
  {
   "cell_type": "code",
   "execution_count": 149,
   "metadata": {},
   "outputs": [
    {
     "data": {
      "text/html": [
       "<div>\n",
       "<style scoped>\n",
       "    .dataframe tbody tr th:only-of-type {\n",
       "        vertical-align: middle;\n",
       "    }\n",
       "\n",
       "    .dataframe tbody tr th {\n",
       "        vertical-align: top;\n",
       "    }\n",
       "\n",
       "    .dataframe thead th {\n",
       "        text-align: right;\n",
       "    }\n",
       "</style>\n",
       "<table border=\"1\" class=\"dataframe\">\n",
       "  <thead>\n",
       "    <tr style=\"text-align: right;\">\n",
       "      <th></th>\n",
       "      <th>category</th>\n",
       "      <th>title</th>\n",
       "      <th>price</th>\n",
       "      <th>link</th>\n",
       "      <th>image</th>\n",
       "      <th>description</th>\n",
       "      <th>top</th>\n",
       "      <th>middle</th>\n",
       "      <th>base</th>\n",
       "    </tr>\n",
       "  </thead>\n",
       "  <tbody>\n",
       "    <tr>\n",
       "      <th>0</th>\n",
       "      <td>Women</td>\n",
       "      <td>Aberchrombie &amp; Fitch, Authentic Away Edp 100Ml...</td>\n",
       "      <td>KSh10,900.00</td>\n",
       "      <td>https://cierraperfumes.com/product/aberchrombi...</td>\n",
       "      <td>https://i0.wp.com/cierraperfumes.com/wp-conten...</td>\n",
       "      <td>The journey is a trip, but the destination is ...</td>\n",
       "      <td>Top Notes: Brazilian Mandarin, Red Currant, Pear</td>\n",
       "      <td>Heart Notes: Plush Pink Freesia, Muguet and Ja...</td>\n",
       "      <td>Base Notes: Warm Praline, Amber, Musk</td>\n",
       "    </tr>\n",
       "    <tr>\n",
       "      <th>1</th>\n",
       "      <td>Women</td>\n",
       "      <td>Aberchrombie &amp; Fitch, Authentic Night Edp 100Ml W</td>\n",
       "      <td>KSh7,400.00</td>\n",
       "      <td>https://cierraperfumes.com/product/aberchrombi...</td>\n",
       "      <td>https://i0.wp.com/cierraperfumes.com/wp-conten...</td>\n",
       "      <td>Authentic Night for Women is for the woman who...</td>\n",
       "      <td>Fragrance Notes:</td>\n",
       "      <td>A mouth-watering combination of Black Currant,...</td>\n",
       "      <td>NaN</td>\n",
       "    </tr>\n",
       "    <tr>\n",
       "      <th>2</th>\n",
       "      <td>Women</td>\n",
       "      <td>Aberchrombie &amp; Fitch, Authentic Night Edp 100M...</td>\n",
       "      <td>KSh9,100.00</td>\n",
       "      <td>https://cierraperfumes.com/product/aberchrombi...</td>\n",
       "      <td>https://i0.wp.com/cierraperfumes.com/wp-conten...</td>\n",
       "      <td>Authentic Night by Abercrombie &amp; Fitch 100ml E...</td>\n",
       "      <td>3 Piece Set Includes:</td>\n",
       "      <td>– 100ml Eau De Parfum Spray– 200ml Perfumed Bo...</td>\n",
       "      <td>Authentic Night for Women is for the woman who...</td>\n",
       "    </tr>\n",
       "    <tr>\n",
       "      <th>3</th>\n",
       "      <td>Women</td>\n",
       "      <td>AFNAN, 9AM EDP 100ML W</td>\n",
       "      <td>KSh6,500.00</td>\n",
       "      <td>https://cierraperfumes.com/product/afnan-9am-e...</td>\n",
       "      <td>https://i0.wp.com/cierraperfumes.com/wp-conten...</td>\n",
       "      <td>Afnan 9am perfume for women is a fruity-spicy ...</td>\n",
       "      <td>Top Notes: Mandarin, Cedrat, Cardamom and Pink...</td>\n",
       "      <td>Middle Notes: Lavender, Orange Blossom, Rose a...</td>\n",
       "      <td>Base Notes: Cedarwood, Moss, Patchouli and Musk</td>\n",
       "    </tr>\n",
       "    <tr>\n",
       "      <th>4</th>\n",
       "      <td>Women</td>\n",
       "      <td>AFNAN, VIOLET BOUQUET EDP 100ML W</td>\n",
       "      <td>KSh7,300.00</td>\n",
       "      <td>https://cierraperfumes.com/product/afnan-viole...</td>\n",
       "      <td>https://i0.wp.com/cierraperfumes.com/wp-conten...</td>\n",
       "      <td>Violet Bouquet is an opulent signature scent o...</td>\n",
       "      <td>Top notes: Sweet, Woody, Saffron, Citrus.</td>\n",
       "      <td>Middle notes: Aromatic, Amber, Orange, Citrus ...</td>\n",
       "      <td>Base notes: Fresh Spicy, Ambergris, Oak Moss, ...</td>\n",
       "    </tr>\n",
       "  </tbody>\n",
       "</table>\n",
       "</div>"
      ],
      "text/plain": [
       "  category                                              title         price  \\\n",
       "0    Women  Aberchrombie & Fitch, Authentic Away Edp 100Ml...  KSh10,900.00   \n",
       "1    Women  Aberchrombie & Fitch, Authentic Night Edp 100Ml W   KSh7,400.00   \n",
       "2    Women  Aberchrombie & Fitch, Authentic Night Edp 100M...   KSh9,100.00   \n",
       "3    Women                             AFNAN, 9AM EDP 100ML W   KSh6,500.00   \n",
       "4    Women                  AFNAN, VIOLET BOUQUET EDP 100ML W   KSh7,300.00   \n",
       "\n",
       "                                                link  \\\n",
       "0  https://cierraperfumes.com/product/aberchrombi...   \n",
       "1  https://cierraperfumes.com/product/aberchrombi...   \n",
       "2  https://cierraperfumes.com/product/aberchrombi...   \n",
       "3  https://cierraperfumes.com/product/afnan-9am-e...   \n",
       "4  https://cierraperfumes.com/product/afnan-viole...   \n",
       "\n",
       "                                               image  \\\n",
       "0  https://i0.wp.com/cierraperfumes.com/wp-conten...   \n",
       "1  https://i0.wp.com/cierraperfumes.com/wp-conten...   \n",
       "2  https://i0.wp.com/cierraperfumes.com/wp-conten...   \n",
       "3  https://i0.wp.com/cierraperfumes.com/wp-conten...   \n",
       "4  https://i0.wp.com/cierraperfumes.com/wp-conten...   \n",
       "\n",
       "                                         description  \\\n",
       "0  The journey is a trip, but the destination is ...   \n",
       "1  Authentic Night for Women is for the woman who...   \n",
       "2  Authentic Night by Abercrombie & Fitch 100ml E...   \n",
       "3  Afnan 9am perfume for women is a fruity-spicy ...   \n",
       "4  Violet Bouquet is an opulent signature scent o...   \n",
       "\n",
       "                                                 top  \\\n",
       "0   Top Notes: Brazilian Mandarin, Red Currant, Pear   \n",
       "1                                   Fragrance Notes:   \n",
       "2                              3 Piece Set Includes:   \n",
       "3  Top Notes: Mandarin, Cedrat, Cardamom and Pink...   \n",
       "4          Top notes: Sweet, Woody, Saffron, Citrus.   \n",
       "\n",
       "                                              middle  \\\n",
       "0  Heart Notes: Plush Pink Freesia, Muguet and Ja...   \n",
       "1  A mouth-watering combination of Black Currant,...   \n",
       "2  – 100ml Eau De Parfum Spray– 200ml Perfumed Bo...   \n",
       "3  Middle Notes: Lavender, Orange Blossom, Rose a...   \n",
       "4  Middle notes: Aromatic, Amber, Orange, Citrus ...   \n",
       "\n",
       "                                                base  \n",
       "0              Base Notes: Warm Praline, Amber, Musk  \n",
       "1                                                NaN  \n",
       "2  Authentic Night for Women is for the woman who...  \n",
       "3    Base Notes: Cedarwood, Moss, Patchouli and Musk  \n",
       "4  Base notes: Fresh Spicy, Ambergris, Oak Moss, ...  "
      ]
     },
     "execution_count": 149,
     "metadata": {},
     "output_type": "execute_result"
    }
   ],
   "source": [
    "file_path = '../Data/cierra_updated.csv'\n",
    "data = pd.read_csv(file_path)\n",
    "data.head(5)"
   ]
  },
  {
   "cell_type": "code",
   "execution_count": 150,
   "metadata": {},
   "outputs": [
    {
     "name": "stdout",
     "output_type": "stream",
     "text": [
      "<class 'pandas.core.frame.DataFrame'>\n",
      "RangeIndex: 2479 entries, 0 to 2478\n",
      "Data columns (total 9 columns):\n",
      " #   Column       Non-Null Count  Dtype \n",
      "---  ------       --------------  ----- \n",
      " 0   category     2479 non-null   object\n",
      " 1   title        2479 non-null   object\n",
      " 2   price        2478 non-null   object\n",
      " 3   link         2479 non-null   object\n",
      " 4   image        2477 non-null   object\n",
      " 5   description  2340 non-null   object\n",
      " 6   top          1920 non-null   object\n",
      " 7   middle       1530 non-null   object\n",
      " 8   base         1233 non-null   object\n",
      "dtypes: object(9)\n",
      "memory usage: 174.4+ KB\n"
     ]
    }
   ],
   "source": [
    "data.info()"
   ]
  },
  {
   "cell_type": "code",
   "execution_count": 151,
   "metadata": {},
   "outputs": [
    {
     "data": {
      "text/plain": [
       "(2479, 9)"
      ]
     },
     "execution_count": 151,
     "metadata": {},
     "output_type": "execute_result"
    }
   ],
   "source": [
    "data.shape"
   ]
  },
  {
   "cell_type": "markdown",
   "metadata": {},
   "source": [
    "### 1.Data Cleaning "
   ]
  },
  {
   "cell_type": "code",
   "execution_count": 152,
   "metadata": {},
   "outputs": [
    {
     "name": "stdout",
     "output_type": "stream",
     "text": [
      "The DataFrame have 0 duplicate\n"
     ]
    }
   ],
   "source": [
    "# Checking for duplicate \n",
    "print(f\"The DataFrame have {data.duplicated().sum()} duplicate\")\n"
   ]
  },
  {
   "cell_type": "code",
   "execution_count": 153,
   "metadata": {},
   "outputs": [],
   "source": [
    "##Strip any leading/trailing spaces in text columns\n",
    "text_columns = ['category', 'title', 'price','description', 'top', 'middle', 'base']\n",
    "for col in text_columns:\n",
    "    data[col] = data[col].str.strip()\n"
   ]
  },
  {
   "cell_type": "code",
   "execution_count": 154,
   "metadata": {},
   "outputs": [],
   "source": [
    "#Convert Price to numeric after removing any non-numeric characters\n",
    "# Fill missing values with 0\n",
    "data['price'] = data['price'].fillna('KSh0')\n",
    "data['price'] = data['price'].replace({'KSh': '', ',': ''}, regex=True).astype(float).astype(int)"
   ]
  },
  {
   "cell_type": "code",
   "execution_count": 155,
   "metadata": {},
   "outputs": [
    {
     "data": {
      "text/plain": [
       "category          0\n",
       "title             0\n",
       "price             0\n",
       "link              0\n",
       "image             2\n",
       "description     139\n",
       "top             559\n",
       "middle          949\n",
       "base           1246\n",
       "dtype: int64"
      ]
     },
     "execution_count": 155,
     "metadata": {},
     "output_type": "execute_result"
    }
   ],
   "source": [
    "data.isnull().sum()"
   ]
  },
  {
   "cell_type": "code",
   "execution_count": 156,
   "metadata": {},
   "outputs": [],
   "source": [
    "#Fill null values in categorical columns with a placeholder 'Unknown'\n",
    "data.fillna('Unknown', inplace=True)"
   ]
  },
  {
   "cell_type": "markdown",
   "metadata": {},
   "source": [
    "#### 2. EDA"
   ]
  },
  {
   "cell_type": "markdown",
   "metadata": {},
   "source": [
    "#### What are the gender in the dataset and what is the distribution for each?"
   ]
  },
  {
   "cell_type": "code",
   "execution_count": 157,
   "metadata": {},
   "outputs": [
    {
     "data": {
      "text/plain": [
       "category\n",
       "Women     1000\n",
       "Unisex     791\n",
       "Men        688\n",
       "Name: count, dtype: int64"
      ]
     },
     "execution_count": 157,
     "metadata": {},
     "output_type": "execute_result"
    }
   ],
   "source": [
    "data.category.value_counts()"
   ]
  },
  {
   "cell_type": "code",
   "execution_count": 158,
   "metadata": {},
   "outputs": [],
   "source": [
    "# What the percentage of each gender in the dataset?\n",
    "total = len(data.index)\n",
    "women = (len(data[data['category'] == 'Women'].index)/total)*100\n",
    "men = (len(data[data['category'] == 'Men'].index)/total)*100\n",
    "unisex = (len(data[data['category'] == 'Unisex'].index)/total)*100"
   ]
  },
  {
   "cell_type": "code",
   "execution_count": 159,
   "metadata": {},
   "outputs": [
    {
     "data": {
      "image/png": "[encoded data removed]",
      "text/plain": [
       "<Figure size 1000x500 with 1 Axes>"
      ]
     },
     "metadata": {},
     "output_type": "display_data"
    }
   ],
   "source": [
    "colors = sns.cubehelix_palette()[0:5]\n",
    "fig = plt.figure(figsize = (10, 5))\n",
    "data = [women, men, unisex, ]\n",
    "labels = ['Women', 'Men', 'Unisex',]\n",
    "\n",
    "fig.patch.set_facecolor('white')\n",
    "#create pie chart\n",
    "plt.pie(data, labels= labels , colors = colors, autopct='%.0f%%')\n",
    "plt.show()"
   ]
  },
  {
   "cell_type": "code",
   "execution_count": null,
   "metadata": {},
   "outputs": [],
   "source": []
  },
  {
   "cell_type": "markdown",
   "metadata": {},
   "source": [
    "#### 2. MODELING"
   ]
  },
  {
   "cell_type": "code",
   "execution_count": 161,
   "metadata": {},
   "outputs": [
    {
     "ename": "TypeError",
     "evalue": "list indices must be integers or slices, not str",
     "output_type": "error",
     "traceback": [
      "\u001b[1;31m---------------------------------------------------------------------------\u001b[0m",
      "\u001b[1;31mTypeError\u001b[0m                                 Traceback (most recent call last)",
      "Cell \u001b[1;32mIn[161], line 2\u001b[0m\n\u001b[0;32m      1\u001b[0m \u001b[38;5;66;03m# Remove any leading or trailing whitespace from each note\u001b[39;00m\n\u001b[1;32m----> 2\u001b[0m data[\u001b[38;5;124m'\u001b[39m\u001b[38;5;124mtop_notes\u001b[39m\u001b[38;5;124m'\u001b[39m] \u001b[38;5;241m=\u001b[39m \u001b[43mdata\u001b[49m\u001b[43m[\u001b[49m\u001b[38;5;124;43m'\u001b[39;49m\u001b[38;5;124;43mtop\u001b[39;49m\u001b[38;5;124;43m'\u001b[39;49m\u001b[43m]\u001b[49m\u001b[38;5;241m.\u001b[39mapply(\u001b[38;5;28;01mlambda\u001b[39;00m x: [note\u001b[38;5;241m.\u001b[39mstrip() \u001b[38;5;28;01mfor\u001b[39;00m note \u001b[38;5;129;01min\u001b[39;00m x] \u001b[38;5;28;01mif\u001b[39;00m \u001b[38;5;28misinstance\u001b[39m(x, \u001b[38;5;28mlist\u001b[39m) \u001b[38;5;28;01melse\u001b[39;00m [])\n\u001b[0;32m      3\u001b[0m data[\u001b[38;5;124m'\u001b[39m\u001b[38;5;124mmiddle_notes\u001b[39m\u001b[38;5;124m'\u001b[39m] \u001b[38;5;241m=\u001b[39m data[\u001b[38;5;124m'\u001b[39m\u001b[38;5;124mmiddle\u001b[39m\u001b[38;5;124m'\u001b[39m]\u001b[38;5;241m.\u001b[39mapply(\u001b[38;5;28;01mlambda\u001b[39;00m x: [note\u001b[38;5;241m.\u001b[39mstrip() \u001b[38;5;28;01mfor\u001b[39;00m note \u001b[38;5;129;01min\u001b[39;00m x] \u001b[38;5;28;01mif\u001b[39;00m \u001b[38;5;28misinstance\u001b[39m(x, \u001b[38;5;28mlist\u001b[39m) \u001b[38;5;28;01melse\u001b[39;00m [])\n\u001b[0;32m      4\u001b[0m data[\u001b[38;5;124m'\u001b[39m\u001b[38;5;124mbase_notes\u001b[39m\u001b[38;5;124m'\u001b[39m] \u001b[38;5;241m=\u001b[39m data[\u001b[38;5;124m'\u001b[39m\u001b[38;5;124mbase_notes\u001b[39m\u001b[38;5;124m'\u001b[39m]\u001b[38;5;241m.\u001b[39mapply(\u001b[38;5;28;01mlambda\u001b[39;00m x: [note\u001b[38;5;241m.\u001b[39mstrip() \u001b[38;5;28;01mfor\u001b[39;00m note \u001b[38;5;129;01min\u001b[39;00m x] \u001b[38;5;28;01mif\u001b[39;00m \u001b[38;5;28misinstance\u001b[39m(x, \u001b[38;5;28mlist\u001b[39m) \u001b[38;5;28;01melse\u001b[39;00m [])\n",
      "\u001b[1;31mTypeError\u001b[0m: list indices must be integers or slices, not str"
     ]
    }
   ],
   "source": [
    "# Remove any leading or trailing whitespace from each note\n",
    "data['top_notes'] = data['top'].apply(lambda x: [note.strip() for note in x] if isinstance(x, list) else [])\n",
    "data['middle_notes'] = data['middle'].apply(lambda x: [note.strip() for note in x] if isinstance(x, list) else [])\n",
    "data['base_notes'] = data['base_notes'].apply(lambda x: [note.strip() for note in x] if isinstance(x, list) else [])"
   ]
  },
  {
   "cell_type": "code",
   "execution_count": 163,
   "metadata": {},
   "outputs": [
    {
     "ename": "TypeError",
     "evalue": "list indices must be integers or slices, not str",
     "output_type": "error",
     "traceback": [
      "\u001b[1;31m---------------------------------------------------------------------------\u001b[0m",
      "\u001b[1;31mTypeError\u001b[0m                                 Traceback (most recent call last)",
      "Cell \u001b[1;32mIn[163], line 2\u001b[0m\n\u001b[0;32m      1\u001b[0m \u001b[38;5;66;03m# Split the 'top', 'middle', and 'base' columns by commas\u001b[39;00m\n\u001b[1;32m----> 2\u001b[0m data[\u001b[38;5;124m'\u001b[39m\u001b[38;5;124mtop_notes\u001b[39m\u001b[38;5;124m'\u001b[39m] \u001b[38;5;241m=\u001b[39m \u001b[43mdata\u001b[49m\u001b[43m[\u001b[49m\u001b[38;5;124;43m'\u001b[39;49m\u001b[38;5;124;43mtop\u001b[39;49m\u001b[38;5;124;43m'\u001b[39;49m\u001b[43m]\u001b[49m\u001b[38;5;241m.\u001b[39mstr\u001b[38;5;241m.\u001b[39msplit(\u001b[38;5;124m'\u001b[39m\u001b[38;5;124m,\u001b[39m\u001b[38;5;124m'\u001b[39m)\n\u001b[0;32m      3\u001b[0m data[\u001b[38;5;124m'\u001b[39m\u001b[38;5;124mmiddle_notes\u001b[39m\u001b[38;5;124m'\u001b[39m] \u001b[38;5;241m=\u001b[39m data[\u001b[38;5;124m'\u001b[39m\u001b[38;5;124mmiddle\u001b[39m\u001b[38;5;124m'\u001b[39m]\u001b[38;5;241m.\u001b[39mstr\u001b[38;5;241m.\u001b[39msplit(\u001b[38;5;124m'\u001b[39m\u001b[38;5;124m,\u001b[39m\u001b[38;5;124m'\u001b[39m)\n\u001b[0;32m      4\u001b[0m data[\u001b[38;5;124m'\u001b[39m\u001b[38;5;124mbase_notes\u001b[39m\u001b[38;5;124m'\u001b[39m] \u001b[38;5;241m=\u001b[39m data[\u001b[38;5;124m'\u001b[39m\u001b[38;5;124mbase\u001b[39m\u001b[38;5;124m'\u001b[39m]\u001b[38;5;241m.\u001b[39mstr\u001b[38;5;241m.\u001b[39msplit(\u001b[38;5;124m'\u001b[39m\u001b[38;5;124m,\u001b[39m\u001b[38;5;124m'\u001b[39m)\n",
      "\u001b[1;31mTypeError\u001b[0m: list indices must be integers or slices, not str"
     ]
    }
   ],
   "source": [
    "# Split the 'top', 'middle', and 'base' columns by commas\n",
    "data['top_notes'] = data['top'].str.split(',')\n",
    "data['middle_notes'] = data['middle'].str.split(',')\n",
    "data['base_notes'] = data['base'].str.split(',')"
   ]
  },
  {
   "cell_type": "code",
   "execution_count": null,
   "metadata": {},
   "outputs": [
    {
     "ename": "TypeError",
     "evalue": "list indices must be integers or slices, not str",
     "output_type": "error",
     "traceback": [
      "\u001b[1;31m---------------------------------------------------------------------------\u001b[0m",
      "\u001b[1;31mTypeError\u001b[0m                                 Traceback (most recent call last)",
      "Cell \u001b[1;32mIn[54], line 2\u001b[0m\n\u001b[0;32m      1\u001b[0m \u001b[38;5;66;03m# Combine top, middle, and base notes into a single string for each perfume  \u001b[39;00m\n\u001b[1;32m----> 2\u001b[0m data[\u001b[38;5;124m'\u001b[39m\u001b[38;5;124mAll Notes\u001b[39m\u001b[38;5;124m'\u001b[39m] \u001b[38;5;241m=\u001b[39m \u001b[43mdata\u001b[49m\u001b[43m[\u001b[49m\u001b[38;5;124;43m'\u001b[39;49m\u001b[38;5;124;43mtop\u001b[39;49m\u001b[38;5;124;43m'\u001b[39;49m\u001b[43m]\u001b[49m \u001b[38;5;241m+\u001b[39m \u001b[38;5;124m\"\u001b[39m\u001b[38;5;124m \u001b[39m\u001b[38;5;124m\"\u001b[39m \u001b[38;5;241m+\u001b[39m data[\u001b[38;5;124m'\u001b[39m\u001b[38;5;124mmiddle\u001b[39m\u001b[38;5;124m'\u001b[39m]\u001b[38;5;241m.\u001b[39mfillna(\u001b[38;5;124m'\u001b[39m\u001b[38;5;124m'\u001b[39m) \u001b[38;5;241m+\u001b[39m \u001b[38;5;124m\"\u001b[39m\u001b[38;5;124m \u001b[39m\u001b[38;5;124m\"\u001b[39m \u001b[38;5;241m+\u001b[39m data[\u001b[38;5;124m'\u001b[39m\u001b[38;5;124mbase\u001b[39m\u001b[38;5;124m'\u001b[39m]\n\u001b[0;32m      6\u001b[0m \u001b[38;5;66;03m# Vectorize the notes  \u001b[39;00m\n\u001b[0;32m      7\u001b[0m tfidf \u001b[38;5;241m=\u001b[39m TfidfVectorizer()  \n",
      "\u001b[1;31mTypeError\u001b[0m: list indices must be integers or slices, not str"
     ]
    }
   ],
   "source": [
    "# Combine top, middle, and base notes into a single string for each perfume  \n",
    "data['All Notes'] = data['top'] + \" \" + data['middle'].fillna('') + \" \" + data['base']\n",
    "\n",
    "\n",
    "\n",
    "# Vectorize the notes  \n",
    "tfidf = TfidfVectorizer()  \n",
    "tfidf_matrix = tfidf.fit_transform(df['All Notes']) "
   ]
  },
  {
   "cell_type": "code",
   "execution_count": null,
   "metadata": {},
   "outputs": [],
   "source": [
    "# Calculate cosine similarity  \n",
    "cosine_sim = cosine_similarity(tfidf_matrix, tfidf_matrix)  \n",
    "\n",
    "# Function to recommend perfumes  \n",
    "def recommend_perfume(title, num_recommendations=5):  \n",
    "    idx = df.index[df['Title'] == title].tolist()[0]  \n",
    "    sim_scores = list(enumerate(cosine_sim[idx]))  \n",
    "    sim_scores = sorted(sim_scores, key=lambda x: x[1], reverse=True)  \n",
    "    top_items = sim_scores[1:num_recommendations + 1]  \n",
    "    perfume_indices = [i[0] for i in top_items]  \n",
    "    return df.iloc[perfume_indices][['Title', 'Price', 'Link', 'Image', 'Description']]  \n"
   ]
  },
  {
   "cell_type": "code",
   "execution_count": null,
   "metadata": {},
   "outputs": [],
   "source": []
  },
  {
   "cell_type": "code",
   "execution_count": null,
   "metadata": {},
   "outputs": [],
   "source": []
  },
  {
   "cell_type": "code",
   "execution_count": null,
   "metadata": {},
   "outputs": [],
   "source": []
  },
  {
   "cell_type": "code",
   "execution_count": null,
   "metadata": {},
   "outputs": [
    {
     "ename": "TypeError",
     "evalue": "list indices must be integers or slices, not str",
     "output_type": "error",
     "traceback": [
      "\u001b[1;31m---------------------------------------------------------------------------\u001b[0m",
      "\u001b[1;31mTypeError\u001b[0m                                 Traceback (most recent call last)",
      "Cell \u001b[1;32mIn[30], line 4\u001b[0m\n\u001b[0;32m      1\u001b[0m \u001b[38;5;28;01mfrom\u001b[39;00m \u001b[38;5;21;01msklearn\u001b[39;00m\u001b[38;5;21;01m.\u001b[39;00m\u001b[38;5;21;01mfeature_extraction\u001b[39;00m\u001b[38;5;21;01m.\u001b[39;00m\u001b[38;5;21;01mtext\u001b[39;00m \u001b[38;5;28;01mimport\u001b[39;00m TfidfVectorizer\n\u001b[0;32m      3\u001b[0m \u001b[38;5;66;03m# extracting fragrance notes\u001b[39;00m\n\u001b[1;32m----> 4\u001b[0m data[\u001b[38;5;124m'\u001b[39m\u001b[38;5;124mnotes\u001b[39m\u001b[38;5;124m'\u001b[39m] \u001b[38;5;241m=\u001b[39m \u001b[43mdata\u001b[49m\u001b[43m[\u001b[49m\u001b[38;5;124;43m'\u001b[39;49m\u001b[38;5;124;43mtop\u001b[39;49m\u001b[38;5;124;43m'\u001b[39;49m\u001b[43m]\u001b[49m\u001b[38;5;241m.\u001b[39mapply(\u001b[38;5;28;01mlambda\u001b[39;00m x: extract_notes(x))  \u001b[38;5;66;03m# Define extract_notes function\u001b[39;00m\n\u001b[0;32m      6\u001b[0m \u001b[38;5;66;03m# TF-IDF Vectorization\u001b[39;00m\n\u001b[0;32m      7\u001b[0m tfidf \u001b[38;5;241m=\u001b[39m TfidfVectorizer(stop_words\u001b[38;5;241m=\u001b[39m\u001b[38;5;124m'\u001b[39m\u001b[38;5;124menglish\u001b[39m\u001b[38;5;124m'\u001b[39m)\n",
      "\u001b[1;31mTypeError\u001b[0m: list indices must be integers or slices, not str"
     ]
    }
   ],
   "source": [
    "from sklearn.feature_extraction.text import TfidfVectorizer\n",
    "\n",
    "# extracting fragrance notes\n",
    "data['notes'] = data['top'].apply(lambda x: extract_notes(x))  # Define extract_notes function\n",
    "\n",
    "# TF-IDF Vectorization\n",
    "tfidf = TfidfVectorizer(stop_words='english')\n",
    "tfidf_matrix = tfidf.fit_transform(data['notes'])"
   ]
  },
  {
   "cell_type": "code",
   "execution_count": null,
   "metadata": {},
   "outputs": [
    {
     "ename": "NameError",
     "evalue": "name 'tfidf_matrix' is not defined",
     "output_type": "error",
     "traceback": [
      "\u001b[1;31m---------------------------------------------------------------------------\u001b[0m",
      "\u001b[1;31mNameError\u001b[0m                                 Traceback (most recent call last)",
      "Cell \u001b[1;32mIn[31], line 4\u001b[0m\n\u001b[0;32m      1\u001b[0m \u001b[38;5;28;01mfrom\u001b[39;00m \u001b[38;5;21;01msklearn\u001b[39;00m\u001b[38;5;21;01m.\u001b[39;00m\u001b[38;5;21;01mmetrics\u001b[39;00m\u001b[38;5;21;01m.\u001b[39;00m\u001b[38;5;21;01mpairwise\u001b[39;00m \u001b[38;5;28;01mimport\u001b[39;00m linear_kernel\n\u001b[0;32m      3\u001b[0m \u001b[38;5;66;03m# Compute cosine similarity based on the TF-IDF matrix\u001b[39;00m\n\u001b[1;32m----> 4\u001b[0m cosine_sim \u001b[38;5;241m=\u001b[39m linear_kernel(\u001b[43mtfidf_matrix\u001b[49m, tfidf_matrix)\n\u001b[0;32m      6\u001b[0m \u001b[38;5;66;03m# Create a DataFrame to hold the similarity scores\u001b[39;00m\n\u001b[0;32m      7\u001b[0m indices \u001b[38;5;241m=\u001b[39m pd\u001b[38;5;241m.\u001b[39mSeries(data\u001b[38;5;241m.\u001b[39mindex, index\u001b[38;5;241m=\u001b[39mdata[\u001b[38;5;124m'\u001b[39m\u001b[38;5;124mcategorytitle\u001b[39m\u001b[38;5;124m'\u001b[39m])\u001b[38;5;241m.\u001b[39mdrop_duplicates()\n",
      "\u001b[1;31mNameError\u001b[0m: name 'tfidf_matrix' is not defined"
     ]
    }
   ],
   "source": [
    "from sklearn.metrics.pairwise import linear_kernel\n",
    "\n",
    "# Compute cosine similarity based on the TF-IDF matrix\n",
    "cosine_sim = linear_kernel(tfidf_matrix, tfidf_matrix)\n",
    "\n",
    "# Create a DataFrame to hold the similarity scores\n",
    "indices = pd.Series(data.index, index=data['categorytitle']).drop_duplicates()"
   ]
  },
  {
   "cell_type": "code",
   "execution_count": null,
   "metadata": {},
   "outputs": [
    {
     "ename": "NameError",
     "evalue": "name 'cosine_sim' is not defined",
     "output_type": "error",
     "traceback": [
      "\u001b[1;31m---------------------------------------------------------------------------\u001b[0m",
      "\u001b[1;31mNameError\u001b[0m                                 Traceback (most recent call last)",
      "Cell \u001b[1;32mIn[32], line 1\u001b[0m\n\u001b[1;32m----> 1\u001b[0m \u001b[38;5;28;01mdef\u001b[39;00m \u001b[38;5;21mget_recommendations\u001b[39m(title, cosine_sim\u001b[38;5;241m=\u001b[39m\u001b[43mcosine_sim\u001b[49m):\n\u001b[0;32m      2\u001b[0m     \u001b[38;5;66;03m# Get the index of the perfume that matches the title\u001b[39;00m\n\u001b[0;32m      3\u001b[0m     idx \u001b[38;5;241m=\u001b[39m indices[title]\n\u001b[0;32m      5\u001b[0m     \u001b[38;5;66;03m# Get the pairwise similarity scores of all perfumes with that perfume\u001b[39;00m\n",
      "\u001b[1;31mNameError\u001b[0m: name 'cosine_sim' is not defined"
     ]
    }
   ],
   "source": [
    "def get_recommendations(title, cosine_sim=cosine_sim):\n",
    "    # Get the index of the perfume that matches the title\n",
    "    idx = indices[title]\n",
    "\n",
    "    # Get the pairwise similarity scores of all perfumes with that perfume\n",
    "    sim_scores = list(enumerate(cosine_sim[idx]))\n",
    "\n",
    "    # Sort the perfumes based on similarity scores\n",
    "    sim_scores = sorted(sim_scores, key=lambda x: x[1], reverse=True)\n",
    "\n",
    "    # Get the scores of the 10 most similar perfumes\n",
    "    sim_scores = sim_scores[1:11]  # Exclude the first one, which is the perfume itself\n",
    "\n",
    "    # Get the perfume indices\n",
    "    perfume_indices = [i[0] for i in sim_scores]\n",
    "\n",
    "    # Return the top 10 most similar perfumes\n",
    "    return data.iloc[perfume_indices]\n",
    "\n",
    "# Example usage\n",
    "recommendations = get_recommendations('Aberchrombie & Fitch, Authentic Away Edp 100Ml W Gift Set')\n",
    "print(recommendations[['categorytitle', 'price', 'link']])"
   ]
  }
 ],
 "metadata": {
  "kernelspec": {
   "display_name": "new_env_name",
   "language": "python",
   "name": "python3"
  },
  "language_info": {
   "codemirror_mode": {
    "name": "ipython",
    "version": 3
   },
   "file_extension": ".py",
   "mimetype": "text/x-python",
   "name": "python",
   "nbconvert_exporter": "python",
   "pygments_lexer": "ipython3",
   "version": "3.12.7"
  }
 },
 "nbformat": 4,
 "nbformat_minor": 2
}
